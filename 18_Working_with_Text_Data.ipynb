{
 "cells": [
  {
   "cell_type": "markdown",
   "metadata": {},
   "source": [
    "### Working with Text Data"
   ]
  },
  {
   "cell_type": "markdown",
   "metadata": {},
   "source": [
    "###  1: Creating a Series\n",
    "#### This code creates a Pandas Series containing names and a missing value (np.nan). The Series is printed as output. "
   ]
  },
  {
   "cell_type": "code",
   "execution_count": 1,
   "metadata": {},
   "outputs": [
    {
     "name": "stdout",
     "output_type": "stream",
     "text": [
      "0      Ali\n",
      "1    Aslam\n",
      "2     Umar\n",
      "3    Akram\n",
      "4      NaN\n",
      "5     1234\n",
      "6     Azam\n",
      "dtype: object\n"
     ]
    }
   ],
   "source": [
    "import pandas as pd\n",
    "import numpy as np\n",
    "\n",
    "s = pd.Series(['Ali', 'Aslam', 'Umar', 'Akram', np.nan, '1234', 'Azam'])\n",
    "print(s)"
   ]
  },
  {
   "cell_type": "markdown",
   "metadata": {},
   "source": [
    "### 2: Convert Strings to Lowercase\n",
    "#### The str.lower() method converts all strings in the Series to lowercase. Missing values (np.nan) remain unchanged."
   ]
  },
  {
   "cell_type": "code",
   "execution_count": 2,
   "metadata": {},
   "outputs": [
    {
     "name": "stdout",
     "output_type": "stream",
     "text": [
      "0      ali\n",
      "1    aslam\n",
      "2     umar\n",
      "3    akram\n",
      "4      NaN\n",
      "5     1234\n",
      "6     azam\n",
      "dtype: object\n"
     ]
    }
   ],
   "source": [
    "s = pd.Series(['Ali', 'Aslam', 'Umar', 'Akram', np.nan, '1234', 'Azam'])\n",
    "print(s.str.lower())"
   ]
  },
  {
   "cell_type": "markdown",
   "metadata": {},
   "source": [
    "### 3: Convert Strings to Uppercase\n",
    "#### The str.upper() method converts all strings in the Series to uppercase. Missing values (np.nan) are not affected."
   ]
  },
  {
   "cell_type": "code",
   "execution_count": 3,
   "metadata": {},
   "outputs": [
    {
     "name": "stdout",
     "output_type": "stream",
     "text": [
      "0      ALI\n",
      "1    ASLAM\n",
      "2     UMAR\n",
      "3    AKRAM\n",
      "4      NaN\n",
      "5     1234\n",
      "6     AZAM\n",
      "dtype: object\n"
     ]
    }
   ],
   "source": [
    "s = pd.Series(['Ali', 'Aslam', 'Umar', 'Akram', np.nan, '1234', 'Azam'])\n",
    "print(s.str.upper())"
   ]
  },
  {
   "cell_type": "markdown",
   "metadata": {},
   "source": [
    "### 4: Calculate Length of Strings\n",
    "#### The str.len() method calculates the length of each string in the Series. Missing values return NaN."
   ]
  },
  {
   "cell_type": "code",
   "execution_count": 4,
   "metadata": {},
   "outputs": [
    {
     "name": "stdout",
     "output_type": "stream",
     "text": [
      "0    3.0\n",
      "1    5.0\n",
      "2    4.0\n",
      "3    5.0\n",
      "4    NaN\n",
      "5    4.0\n",
      "6    4.0\n",
      "dtype: float64\n"
     ]
    }
   ],
   "source": [
    "s = pd.Series(['Ali', 'Aslam', 'Umar', 'Akram', np.nan, '1234', 'Azam'])\n",
    "print(s.str.len())"
   ]
  },
  {
   "cell_type": "markdown",
   "metadata": {},
   "source": [
    "### 5: Strip Whitespace\n",
    "#### The str.strip() method removes leading and trailing whitespace from each string in the Series."
   ]
  },
  {
   "cell_type": "code",
   "execution_count": 5,
   "metadata": {},
   "outputs": [
    {
     "name": "stdout",
     "output_type": "stream",
     "text": [
      "0      Ali \n",
      "1     Aslam\n",
      "2      Umar\n",
      "3     Akram\n",
      "dtype: object\n",
      "After Stripping:\n",
      "0      Ali\n",
      "1    Aslam\n",
      "2     Umar\n",
      "3    Akram\n",
      "dtype: object\n"
     ]
    }
   ],
   "source": [
    "s = pd.Series(['Ali ', ' Aslam', 'Umar', 'Akram'])\n",
    "print(s)\n",
    "print(\"After Stripping:\")\n",
    "print(s.str.strip())"
   ]
  },
  {
   "cell_type": "markdown",
   "metadata": {},
   "source": [
    "### 6: Split Strings by Pattern\n",
    "#### Split a string into substrings based on a specified pattern. The pattern can be a regular expression or a simple string. The function returns a list of substrings. The str.split(' ') method splits each string in the Series by the space character ( ) and returns a list of substrings."
   ]
  },
  {
   "cell_type": "code",
   "execution_count": 6,
   "metadata": {},
   "outputs": [
    {
     "name": "stdout",
     "output_type": "stream",
     "text": [
      "0           Ali\n",
      "1    Aslam Umar\n",
      "2         Akram\n",
      "3          Azam\n",
      "dtype: object\n",
      "Split Pattern:\n",
      "0            [Ali]\n",
      "1    [Aslam, Umar]\n",
      "2          [Akram]\n",
      "3           [Azam]\n",
      "dtype: object\n"
     ]
    }
   ],
   "source": [
    "s = pd.Series(['Ali', 'Aslam Umar', 'Akram', 'Azam'])\n",
    "print(s)\n",
    "print(\"Split Pattern:\")\n",
    "print(s.str.split(' '))"
   ]
  },
  {
   "cell_type": "markdown",
   "metadata": {},
   "source": [
    "### 7: Concatenate Strings with Separator\n",
    "#### You can use the `join()` function to concatenate strings with a separator. For example, you can join a list of strings with a comma and a space as the separator: `', '.join(['apple', 'banana', 'cherry'])` returns `'apple, banana , cherry'`. The str.cat(sep='_') method concatenates all strings in the Series into a single string, separated by the specified delimiter (_)."
   ]
  },
  {
   "cell_type": "code",
   "execution_count": 7,
   "metadata": {},
   "outputs": [
    {
     "name": "stdout",
     "output_type": "stream",
     "text": [
      "Ali_Aslam_Umar_Akram\n"
     ]
    }
   ],
   "source": [
    "s = pd.Series(['Ali', 'Aslam', 'Umar', 'Akram'])\n",
    "print(s.str.cat(sep='_'))"
   ]
  },
  {
   "cell_type": "markdown",
   "metadata": {},
   "source": [
    "### 8: Get Dummy Variables\n",
    "#### The str.get_dummies() method converts each unique string value into a binary column (dummy variable). "
   ]
  },
  {
   "cell_type": "code",
   "execution_count": 8,
   "metadata": {},
   "outputs": [
    {
     "name": "stdout",
     "output_type": "stream",
     "text": [
      "   Akram  Ali  Aslam  Umar\n",
      "0      0    1      0     0\n",
      "1      0    0      1     0\n",
      "2      0    0      0     1\n",
      "3      1    0      0     0\n"
     ]
    }
   ],
   "source": [
    "s = pd.Series(['Ali', 'Aslam', 'Umar', 'Akram'])\n",
    "print(s.str.get_dummies())"
   ]
  },
  {
   "cell_type": "markdown",
   "metadata": {},
   "source": [
    "### 9: Check if Strings Contain a Pattern\n",
    "##### The str.contains(' ') method checks if each string in the Series contains a space character and returns a boolean Series.\n"
   ]
  },
  {
   "cell_type": "code",
   "execution_count": 9,
   "metadata": {},
   "outputs": [
    {
     "name": "stdout",
     "output_type": "stream",
     "text": [
      "0    False\n",
      "1     True\n",
      "2    False\n",
      "3    False\n",
      "dtype: bool\n"
     ]
    }
   ],
   "source": [
    "s = pd.Series(['Ali', 'Aslam Umar', 'Akram', 'Azam'])\n",
    "print(s.str.contains(' '))"
   ]
  },
  {
   "cell_type": "markdown",
   "metadata": {},
   "source": [
    "### 10: Replace Substrings\n",
    "##### Replace all occurrences of a substring in a string with another substring. This function takes three arguments: the original string, the substring to replace, and the replacement substring. It returns the modified string. The function uses the `str.replace()` method to replace all occurrences of the substring. If the substring is not found, the original string is returned. The str.replace('@', '$') method replaces all occurrences of @ with $ in each string."
   ]
  },
  {
   "cell_type": "code",
   "execution_count": 10,
   "metadata": {},
   "outputs": [
    {
     "name": "stdout",
     "output_type": "stream",
     "text": [
      "0           Ali\n",
      "1    Aslam@Umar\n",
      "2         Akram\n",
      "3          Azam\n",
      "dtype: object\n",
      "After replacing @ with $:\n",
      "0           Ali\n",
      "1    Aslam$Umar\n",
      "2         Akram\n",
      "3          Azam\n",
      "dtype: object\n"
     ]
    }
   ],
   "source": [
    "s = pd.Series(['Ali', 'Aslam@Umar', 'Akram', 'Azam'])\n",
    "print(s)\n",
    "print(\"After replacing @ with $:\")\n",
    "print(s.str.replace('@', '$'))"
   ]
  },
  {
   "cell_type": "markdown",
   "metadata": {},
   "source": [
    "### 11: Repeat Strings\n",
    "##### Write a function that takes a string and an integer as input, and returns a new string where th s input string is repeated the specified number of times. For example, if the input string is \"hello\" and the integer is 3, the function should return \"hellohellohello\". The str.repeat(2) method repeats each string in the Series twice. The function should handle both positive and negative integers. If the integer is negative, the function should return an empty string. If the integer is zero, the function should return an empty string. If the integer is positive, the function should return the input string repeated the specified number of times. "
   ]
  },
  {
   "cell_type": "code",
   "execution_count": 11,
   "metadata": {},
   "outputs": [
    {
     "name": "stdout",
     "output_type": "stream",
     "text": [
      "0        AliAli\n",
      "1    AslamAslam\n",
      "2      UmarUmar\n",
      "3    AkramAkram\n",
      "dtype: object\n"
     ]
    }
   ],
   "source": [
    "s = pd.Series(['Ali', 'Aslam', 'Umar', 'Akram'])\n",
    "print(s.str.repeat(2))"
   ]
  },
  {
   "cell_type": "markdown",
   "metadata": {},
   "source": [
    "### 12: Count Occurrences of a Pattern\n",
    "##### The following code counts the occurrences of a pattern in a string. It uses a regular expression to find all occurrences of the pattern and then returns the count of matches. The code is well-structured, readable, and follows best practices. However, it does not handle the case where the pattern is not found in the string. It would be better to add a check to return 0 in this case. The str.count('a') method counts the occurrences of the letter a in each string (case-sensitive)."
   ]
  },
  {
   "cell_type": "code",
   "execution_count": 12,
   "metadata": {},
   "outputs": [
    {
     "name": "stdout",
     "output_type": "stream",
     "text": [
      "The number of 'a's in each string:\n",
      "0    0\n",
      "1    1\n",
      "2    1\n",
      "3    1\n",
      "dtype: int64\n"
     ]
    }
   ],
   "source": [
    "s = pd.Series(['Ali', 'Aslam', 'Umar', 'Akram'])\n",
    "print(\"The number of 'a's in each string:\")\n",
    "print(s.str.count('a'))"
   ]
  },
  {
   "cell_type": "markdown",
   "metadata": {},
   "source": [
    "### 13: Check if Strings Start with a Pattern\n",
    "#### You can use the `str.startswith()` method to check if a string starts with a specific pattern. The str.startswith('A') method checks if each string starts with the letter A and returns a boolean Series. The result is a boolean Series where True means the string starts with the letter A and False means it does not. "
   ]
  },
  {
   "cell_type": "code",
   "execution_count": 13,
   "metadata": {},
   "outputs": [
    {
     "name": "stdout",
     "output_type": "stream",
     "text": [
      "Strings that start with 'A':\n",
      "0     True\n",
      "1     True\n",
      "2    False\n",
      "3     True\n",
      "dtype: bool\n"
     ]
    }
   ],
   "source": [
    "s = pd.Series(['Ali', 'Aslam', 'Umar', 'Akram'])\n",
    "print(\"Strings that start with 'A':\")\n",
    "print(s.str.startswith('A'))"
   ]
  },
  {
   "cell_type": "markdown",
   "metadata": {},
   "source": [
    "### 14: Check if Strings End with a Pattern\n",
    "You can use the `end_with()` method to check if a string ends with a specific pattern. The str.endswith('m') method checks if each string ends with the letter m and returns a boolean Series. "
   ]
  },
  {
   "cell_type": "code",
   "execution_count": 14,
   "metadata": {},
   "outputs": [
    {
     "name": "stdout",
     "output_type": "stream",
     "text": [
      "Strings that end with 'm':\n",
      "0    False\n",
      "1     True\n",
      "2    False\n",
      "3     True\n",
      "dtype: bool\n"
     ]
    }
   ],
   "source": [
    "s = pd.Series(['Ali', 'Aslam', 'Umar', 'Akram'])\n",
    "print(\"Strings that end with 'm':\")\n",
    "print(s.str.endswith('m'))"
   ]
  },
  {
   "cell_type": "markdown",
   "metadata": {},
   "source": [
    "### 15: Find Position of a Pattern\n",
    "\n",
    "1. **Purpose of the Code**:  \n",
    "   The code finds the position of a pattern (substring) in a string. If the pattern is not found, it returns `-1`.\n",
    "\n",
    "2. **Algorithm Used**:  \n",
    "   The **KMP (Knuth-Morris-Pratt) algorithm** is used for efficient string searching.\n",
    "\n",
    "3. **Key Idea of KMP**:  \n",
    "   - When a mismatch occurs, the algorithm uses precomputed information to skip unnecessary comparisons.  \n",
    "   - This reduces the number of comparisons needed to find the pattern.\n",
    "\n",
    "4. **Time Complexity**:  \n",
    "   - The KMP algorithm has a time complexity of **O(n + m)**, where:  \n",
    "     - `n` = length of the string.  \n",
    "     - `m` = length of the pattern.\n",
    "\n",
    "5. **Space Complexity**:  \n",
    "   - The space complexity is **O(m)**, where `m` is the length of the pattern.\n",
    "\n",
    "6. **Function Parameters**:  \n",
    "   - The function takes two inputs:  \n",
    "     - The **string** to search in.  \n",
    "     - The **pattern** to search for.\n",
    "\n",
    "7. **Return Value**:  \n",
    "   - The function returns the **position** of the pattern in the string.  \n",
    "   - If the pattern is not found, it returns `-1`.\n",
    "\n",
    "8. **Efficiency**:  \n",
    "   - The KMP algorithm is efficient for string searching due to its ability to skip unnecessary comparisons.\n",
    "\n",
    "9. **string**:\n",
    "   - The str.find('a') method returns the position of the first occurrence of the letter a in each string. If not found, it returns -1.\n",
    "\n",
    "\n",
    "### Summary:\n",
    "The paragraph explains how the KMP algorithm is used to efficiently find the position of a pattern in a string, with a focus on its time and space complexity, key idea, and functionality."
   ]
  },
  {
   "cell_type": "code",
   "execution_count": 15,
   "metadata": {},
   "outputs": [
    {
     "name": "stdout",
     "output_type": "stream",
     "text": [
      "0   -1\n",
      "1    3\n",
      "2    2\n",
      "3    3\n",
      "dtype: int64\n"
     ]
    }
   ],
   "source": [
    "s = pd.Series(['Ali', 'Aslam', 'Umar', 'Akram'])\n",
    "print(s.str.find('a'))"
   ]
  },
  {
   "cell_type": "markdown",
   "metadata": {},
   "source": [
    "### 16: Find All Occurrences of a Pattern\n",
    "#### The problem is to find all occurrences of a pattern in a text. The pattern is a string of characters, and the text is also a string of characters. The goal is to find all positions in the text where the pattern appears. This problem is a classic example of a string searching problem. The str.findall('a') method finds all occurrences of the letter a in each string and returns a list of matches."
   ]
  },
  {
   "cell_type": "code",
   "execution_count": 16,
   "metadata": {},
   "outputs": [
    {
     "name": "stdout",
     "output_type": "stream",
     "text": [
      "0     []\n",
      "1    [a]\n",
      "2    [a]\n",
      "3    [a]\n",
      "dtype: object\n"
     ]
    }
   ],
   "source": [
    "s = pd.Series(['Ali', 'Aslam', 'Umar', 'Akram'])\n",
    "print(s.str.findall('a'))"
   ]
  },
  {
   "cell_type": "markdown",
   "metadata": {},
   "source": [
    "### 17: Swap Case of Strings \n",
    "#### You can use the `swapcase()` method to swap the case of a string. This method converts all uppercase characters to lowercase and all lowercase characters to uppercase. The str.swapcase() method swaps the case of each character in the strings (lowercase to uppercase and vice versa). "
   ]
  },
  {
   "cell_type": "code",
   "execution_count": 17,
   "metadata": {},
   "outputs": [
    {
     "name": "stdout",
     "output_type": "stream",
     "text": [
      "0      aLI\n",
      "1    aSLAM\n",
      "2     uMAR\n",
      "3    aKRAM\n",
      "dtype: object\n"
     ]
    }
   ],
   "source": [
    "s = pd.Series(['Ali', 'Aslam', 'Umar', 'Akram'])\n",
    "print(s.str.swapcase())"
   ]
  },
  {
   "cell_type": "markdown",
   "metadata": {},
   "source": [
    "### 18: Check if Strings are Lowercase\n",
    "#### You can use the `islower()` method to check if a string is entirely lowercase. Here's how you can do it: The str.islower() method checks if all characters in each string are lowercase and returns a boolean Series."
   ]
  },
  {
   "cell_type": "code",
   "execution_count": 18,
   "metadata": {},
   "outputs": [
    {
     "name": "stdout",
     "output_type": "stream",
     "text": [
      "0     True\n",
      "1    False\n",
      "2     True\n",
      "3    False\n",
      "dtype: bool\n"
     ]
    }
   ],
   "source": [
    "s = pd.Series(['ali', 'Aslam', 'umar', 'Akram'])\n",
    "print(s.str.islower())"
   ]
  },
  {
   "cell_type": "markdown",
   "metadata": {},
   "source": [
    "### 19: Check if Strings are Uppercase\n",
    "#### The str.isupper() method checks if all characters in each string are uppercase and returns a boolean Series."
   ]
  },
  {
   "cell_type": "code",
   "execution_count": 19,
   "metadata": {},
   "outputs": [
    {
     "name": "stdout",
     "output_type": "stream",
     "text": [
      "0     True\n",
      "1    False\n",
      "2     True\n",
      "3    False\n",
      "dtype: bool\n"
     ]
    }
   ],
   "source": [
    "s = pd.Series(['ALI', 'Aslam', 'UMAR', 'Akram'])\n",
    "print(s.str.isupper())"
   ]
  },
  {
   "cell_type": "markdown",
   "metadata": {},
   "source": [
    "### 20: Check if Strings are Numeric\n",
    "#### You can use the `isnumeric()` method to check if a string is numeric. This method returns `True` if all characters in the string are numeric, and `False` otherwise. The str.isnumeric() method checks if each string consists of numeric characters and returns a boolean Series.\n",
    "\n",
    "#### Each code demonstrates a specific string operation using Pandas Series, with updated names and clear explanations.\n"
   ]
  },
  {
   "cell_type": "code",
   "execution_count": 20,
   "metadata": {},
   "outputs": [
    {
     "name": "stdout",
     "output_type": "stream",
     "text": [
      "0     True\n",
      "1    False\n",
      "2     True\n",
      "3    False\n",
      "dtype: bool\n"
     ]
    }
   ],
   "source": [
    "s = pd.Series(['123', 'Aslam', '456', 'Akram'])\n",
    "print(s.str.isnumeric())"
   ]
  }
 ],
 "metadata": {
  "kernelspec": {
   "display_name": "base",
   "language": "python",
   "name": "python3"
  },
  "language_info": {
   "codemirror_mode": {
    "name": "ipython",
    "version": 3
   },
   "file_extension": ".py",
   "mimetype": "text/x-python",
   "name": "python",
   "nbconvert_exporter": "python",
   "pygments_lexer": "ipython3",
   "version": "3.12.7"
  }
 },
 "nbformat": 4,
 "nbformat_minor": 2
}
