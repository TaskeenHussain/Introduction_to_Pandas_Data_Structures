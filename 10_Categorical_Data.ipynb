{
 "cells": [
  {
   "cell_type": "markdown",
   "metadata": {},
   "source": []
  },
  {
   "cell_type": "code",
   "execution_count": 2,
   "metadata": {},
   "outputs": [
    {
     "name": "stdout",
     "output_type": "stream",
     "text": [
      "Categorical Series:\n",
      "0    a\n",
      "1    b\n",
      "2    c\n",
      "3    a\n",
      "dtype: category\n",
      "Categories (3, object): ['a', 'b', 'c']\n"
     ]
    }
   ],
   "source": [
    "### Object Creation\n",
    "### Create a Series with categorical data.\n",
    "\n",
    "import pandas as pd\n",
    "\n",
    "# Create a pandas Series with categorical data type.\n",
    "s = pd.Series([\"a\", \"b\", \"c\", \"a\"], dtype=\"category\")\n",
    "print(\"Categorical Series:\")\n",
    "print(s)\n",
    "## A Series can be assigned a category dtype to save memory and improve performance."
   ]
  },
  {
   "cell_type": "code",
   "execution_count": 3,
   "metadata": {},
   "outputs": [
    {
     "name": "stdout",
     "output_type": "stream",
     "text": [
      "\n",
      "Categorical Object:\n",
      "['a', 'b', 'c', 'a', 'b', 'c']\n",
      "Categories (3, object): ['a', 'b', 'c']\n"
     ]
    }
   ],
   "source": [
    "### Using pd.Categorical\n",
    "### Create a categorical object directly using pd.Categorical.\n",
    "\n",
    "import pandas as pd\n",
    "\n",
    "# Create a Categorical object with repeated categories.\n",
    "cat = pd.Categorical(['a', 'b', 'c', 'a', 'b', 'c'])\n",
    "print(\"\\nCategorical Object:\")\n",
    "print(cat)\n",
    "\n",
    "### pd.Categorical() creates a standalone categorical object.\n"
   ]
  },
  {
   "cell_type": "code",
   "execution_count": 4,
   "metadata": {},
   "outputs": [
    {
     "name": "stdout",
     "output_type": "stream",
     "text": [
      "\n",
      "Categorical Object with Specified Categories:\n",
      "['a', 'b', 'c', 'a', 'b', 'c', NaN]\n",
      "Categories (3, object): ['c', 'b', 'a']\n"
     ]
    }
   ],
   "source": [
    "### Specifying Categories\n",
    "## Manually define the categories and their order.\n",
    "\n",
    "\n",
    "import pandas as pd\n",
    "\n",
    "# Specify categories manually.\n",
    "cat = pd.Categorical(['a', 'b', 'c', 'a', 'b', 'c', 'd'], categories=['c', 'b', 'a'])\n",
    "print(\"\\nCategorical Object with Specified Categories:\")\n",
    "print(cat)\n",
    "\n",
    "### The categories parameter allows you to explicitly define the valid categories, including their order."
   ]
  },
  {
   "cell_type": "code",
   "execution_count": 5,
   "metadata": {},
   "outputs": [
    {
     "name": "stdout",
     "output_type": "stream",
     "text": [
      "\n",
      "Ordered Categorical Object:\n",
      "['a', 'b', 'c', 'a', 'b', 'c', NaN]\n",
      "Categories (3, object): ['c' < 'b' < 'a']\n"
     ]
    }
   ],
   "source": [
    "### Ordered Categories\n",
    "### Create an ordered categorical object.\n",
    "import pandas as pd\n",
    "\n",
    "# Create an ordered categorical object.\n",
    "cat = pd.Categorical(['a', 'b', 'c', 'a', 'b', 'c', 'd'], categories=['c', 'b', 'a'], ordered=True)\n",
    "print(\"\\nOrdered Categorical Object:\")\n",
    "print(cat)\n",
    "\n",
    "### The ordered=True parameter indicates that the categories have a meaningful order."
   ]
  },
  {
   "cell_type": "code",
   "execution_count": 6,
   "metadata": {},
   "outputs": [
    {
     "name": "stdout",
     "output_type": "stream",
     "text": [
      "\n",
      "Descriptive Statistics for DataFrame:\n",
      "       cat  s\n",
      "count    3  3\n",
      "unique   2  2\n",
      "top      c  c\n",
      "freq     2  2\n",
      "\n",
      "Descriptive Statistics for Categorical Column:\n",
      "count     3\n",
      "unique    2\n",
      "top       c\n",
      "freq      2\n",
      "Name: cat, dtype: object\n"
     ]
    }
   ],
   "source": [
    "###5. Describing Categorical Data\n",
    "### Summarize the categorical data using describe().\n",
    "\n",
    "import pandas as pd\n",
    "import numpy as np\n",
    "\n",
    "# Create a Categorical object with some NaN values.\n",
    "cat = pd.Categorical([\"a\", \"c\", \"c\", np.nan], categories=[\"b\", \"a\", \"c\"])\n",
    "df = pd.DataFrame({\"cat\": cat, \"s\": [\"a\", \"c\", \"c\", np.nan]})\n",
    "\n",
    "# Display descriptive statistics for the DataFrame and the categorical column.\n",
    "print(\"\\nDescriptive Statistics for DataFrame:\")\n",
    "print(df.describe())\n",
    "print(\"\\nDescriptive Statistics for Categorical Column:\")\n",
    "print(df[\"cat\"].describe())\n",
    "\n",
    "### describe() provides summary statistics for categorical data, such as counts and frequencies.\n"
   ]
  },
  {
   "cell_type": "code",
   "execution_count": 9,
   "metadata": {},
   "outputs": [
    {
     "name": "stdout",
     "output_type": "stream",
     "text": [
      "\n",
      "Categories in the Categorical Object:\n",
      "Index(['b', 'a', 'c'], dtype='object')\n",
      "\n",
      "Is the Categorical Object Ordered?\n",
      "False\n"
     ]
    }
   ],
   "source": [
    "###  Get the Properties of Categories\n",
    "### Retrieve the properties of a categorical object.\n",
    "\n",
    "### a. Categories\n",
    "import pandas as pd\n",
    "import numpy as np\n",
    "\n",
    "# Create a Categorical object and get its categories.\n",
    "s = pd.Categorical([\"a\", \"c\", \"c\", np.nan], categories=[\"b\", \"a\", \"c\"])\n",
    "print(\"\\nCategories in the Categorical Object:\")\n",
    "print(s.categories)\n",
    "### b. Ordered Property\n",
    "\n",
    "import pandas as pd\n",
    "import numpy as np\n",
    "\n",
    "# Check if the categories are ordered.\n",
    "cat = pd.Categorical([\"a\", \"c\", \"c\", np.nan], categories=[\"b\", \"a\", \"c\"])\n",
    "print(\"\\nIs the Categorical Object Ordered?\")\n",
    "print(cat.ordered)"
   ]
  },
  {
   "cell_type": "code",
   "execution_count": 13,
   "metadata": {},
   "outputs": [
    {
     "name": "stdout",
     "output_type": "stream",
     "text": [
      "\n",
      "Renamed Categories:\n",
      "Index(['Group a', 'Group b', 'Group c'], dtype='object')\n"
     ]
    }
   ],
   "source": [
    "import pandas as pd\n",
    "\n",
    "# Create a Series with categorical data\n",
    "s = pd.Series([\"a\", \"b\", \"c\", \"a\"], dtype=\"category\")\n",
    "\n",
    "# Rename categories using the rename_categories() method\n",
    "s = s.cat.rename_categories([\"Group %s\" % g for g in s.cat.categories])\n",
    "\n",
    "print(\"\\nRenamed Categories:\")\n",
    "print(s.cat.categories)\n"
   ]
  },
  {
   "cell_type": "code",
   "execution_count": 11,
   "metadata": {},
   "outputs": [
    {
     "name": "stdout",
     "output_type": "stream",
     "text": [
      "\n",
      "Categories After Adding New One:\n",
      "Index(['a', 'b', 'c', 4], dtype='object')\n"
     ]
    }
   ],
   "source": [
    "### Appending New Categories\n",
    "### Add new categories to an existing categorical object.\n",
    "\n",
    "\n",
    "import pandas as pd\n",
    "\n",
    "# Add a new category to the existing ones.\n",
    "s = pd.Series([\"a\", \"b\", \"c\", \"a\"], dtype=\"category\")\n",
    "s = s.cat.add_categories([4])\n",
    "print(\"\\nCategories After Adding New One:\")\n",
    "print(s.cat.categories)\n",
    "\n",
    "##cat.add_categories() appends new categories without affecting existing data.\n"
   ]
  },
  {
   "cell_type": "code",
   "execution_count": 12,
   "metadata": {},
   "outputs": [
    {
     "name": "stdout",
     "output_type": "stream",
     "text": [
      "Original Series:\n",
      "0    a\n",
      "1    b\n",
      "2    c\n",
      "3    a\n",
      "dtype: category\n",
      "Categories (3, object): ['a', 'b', 'c']\n",
      "\n",
      "Series After Removing Category 'a':\n",
      "0    NaN\n",
      "1      b\n",
      "2      c\n",
      "3    NaN\n",
      "dtype: category\n",
      "Categories (2, object): ['b', 'c']\n"
     ]
    }
   ],
   "source": [
    "## Removing Categories\n",
    "### Remove a category from a categorical object.\n",
    "\n",
    "import pandas as pd\n",
    "\n",
    "# Remove a category from the categorical Series.\n",
    "s = pd.Series([\"a\", \"b\", \"c\", \"a\"], dtype=\"category\")\n",
    "print(\"Original Series:\")\n",
    "print(s)\n",
    "\n",
    "# Remove the category \"a\".\n",
    "removed = s.cat.remove_categories(\"a\")\n",
    "print(\"\\nSeries After Removing Category 'a':\")\n",
    "print(removed)\n",
    "\n",
    "### cat.remove_categories() removes specified categories and converts their occurrences to NaN.\n"
   ]
  }
 ],
 "metadata": {
  "kernelspec": {
   "display_name": "base",
   "language": "python",
   "name": "python3"
  },
  "language_info": {
   "codemirror_mode": {
    "name": "ipython",
    "version": 3
   },
   "file_extension": ".py",
   "mimetype": "text/x-python",
   "name": "python",
   "nbconvert_exporter": "python",
   "pygments_lexer": "ipython3",
   "version": "3.12.7"
  }
 },
 "nbformat": 4,
 "nbformat_minor": 2
}
