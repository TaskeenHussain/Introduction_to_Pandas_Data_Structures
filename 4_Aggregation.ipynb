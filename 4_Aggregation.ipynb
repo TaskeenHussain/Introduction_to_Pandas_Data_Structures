{
 "cells": [
  {
   "cell_type": "markdown",
   "metadata": {},
   "source": []
  },
  {
   "cell_type": "code",
   "execution_count": 1,
   "metadata": {},
   "outputs": [
    {
     "name": "stdout",
     "output_type": "stream",
     "text": [
      "                   A         B         C         D\n",
      "2000-01-01  0.222887  1.731885 -0.442800  0.080972\n",
      "2000-01-02 -3.822739  0.732707  0.294696  1.246986\n",
      "2000-01-03  0.031157  0.932949 -1.455016  0.324594\n",
      "2000-01-04 -0.634051  1.580098 -0.187841 -1.275987\n",
      "2000-01-05 -0.306832  0.507148  1.455346  0.616478\n",
      "2000-01-06  0.989699 -0.999525 -1.051312 -2.092911\n",
      "2000-01-07 -2.514256  0.836706 -0.552259  0.879590\n",
      "2000-01-08 -0.353442  1.764660 -0.927800 -0.988390\n",
      "2000-01-09 -0.631820 -0.891140  0.770459 -0.466648\n",
      "2000-01-10  0.392369 -1.207324 -0.153549 -1.303283\n",
      "Rolling [window=3,min_periods=1,center=False,axis=0,method=single]\n"
     ]
    }
   ],
   "source": [
    "### Applying Aggregations on DataFrame\n",
    "### Example: Creating a Rolling Object\n",
    "import pandas as pd\n",
    "import numpy as np\n",
    "\n",
    "# Create a DataFrame with random values\n",
    "df = pd.DataFrame(np.random.randn(10, 4),\n",
    "   index=pd.date_range('1/1/2000', periods=10),\n",
    "   columns=['A', 'B', 'C', 'D'])\n",
    "\n",
    "print(df)\n",
    "\n",
    "# Create a rolling object with a window size of 3\n",
    "r = df.rolling(window=3, min_periods=1)\n",
    "print(r)\n"
   ]
  },
  {
   "cell_type": "code",
   "execution_count": 2,
   "metadata": {},
   "outputs": [
    {
     "name": "stdout",
     "output_type": "stream",
     "text": [
      "                   A         B         C         D\n",
      "2000-01-01 -0.437958  1.445811  1.716619  0.699045\n",
      "2000-01-02 -1.674083  0.102884  0.555805 -0.868337\n",
      "2000-01-03 -0.348197  0.394040  0.856750  0.512762\n",
      "2000-01-04 -0.844623 -0.835088 -0.712794  0.731913\n",
      "2000-01-05 -0.073046  0.174350 -1.981584 -0.755452\n",
      "2000-01-06 -0.779143  1.460265 -0.558283  0.049613\n",
      "2000-01-07  1.052387  0.854247  1.840210 -0.339670\n",
      "2000-01-08  0.331418 -0.020793 -1.662555 -0.844709\n",
      "2000-01-09  0.346462  0.486916  1.299197 -0.141105\n",
      "2000-01-10 -0.136834 -1.341663 -0.711290  0.164353\n",
      "                   A         B         C         D\n",
      "2000-01-01 -0.437958  1.445811  1.716619  0.699045\n",
      "2000-01-02 -2.112042  1.548695  2.272424 -0.169292\n",
      "2000-01-03 -2.460239  1.942735  3.129174  0.343471\n",
      "2000-01-04 -2.866903 -0.338165  0.699761  0.376338\n",
      "2000-01-05 -1.265866 -0.266699 -1.837628  0.489223\n",
      "2000-01-06 -1.696812  0.799526 -3.252661  0.026074\n",
      "2000-01-07  0.200198  2.488862 -0.699657 -1.045509\n",
      "2000-01-08  0.604662  2.293719 -0.380628 -1.134765\n",
      "2000-01-09  1.730267  1.320371  1.476852 -1.325484\n",
      "2000-01-10  0.541047 -0.875539 -1.074648 -0.821462\n"
     ]
    },
    {
     "name": "stderr",
     "output_type": "stream",
     "text": [
      "C:\\Users\\ALR\\AppData\\Local\\Temp\\ipykernel_13568\\314782476.py:14: FutureWarning: The provided callable <function sum at 0x000001F360073740> is currently using Rolling.sum. In a future version of pandas, the provided callable will be used directly. To keep current behavior pass the string \"sum\" instead.\n",
      "  print(r.aggregate(np.sum))\n"
     ]
    }
   ],
   "source": [
    "### Apply Aggregation on a Whole DataFrame\n",
    "### Example: Sum Aggregation\n",
    "import pandas as pd\n",
    "import numpy as np\n",
    "\n",
    "df = pd.DataFrame(np.random.randn(10, 4),\n",
    "   index=pd.date_range('1/1/2000', periods=10),\n",
    "   columns=['A', 'B', 'C', 'D'])\n",
    "\n",
    "print(df)\n",
    "\n",
    "# Apply sum aggregation on the entire DataFrame\n",
    "r = df.rolling(window=3, min_periods=1)\n",
    "print(r.aggregate(np.sum))"
   ]
  },
  {
   "cell_type": "code",
   "execution_count": 3,
   "metadata": {},
   "outputs": [
    {
     "name": "stdout",
     "output_type": "stream",
     "text": [
      "                   A         B         C         D\n",
      "2000-01-01  0.144756 -0.792031  0.318267  0.920567\n",
      "2000-01-02  0.105816 -0.060357 -0.490138 -1.797379\n",
      "2000-01-03  0.194659  0.475955 -0.786776 -0.755488\n",
      "2000-01-04 -0.431305 -1.460774 -0.936472  0.470578\n",
      "2000-01-05 -1.353296  0.450209  2.040592 -0.178271\n",
      "2000-01-06 -0.275669  0.315152 -0.515742 -0.147604\n",
      "2000-01-07  1.024782  0.215890 -1.154099  0.519203\n",
      "2000-01-08 -0.613277 -0.174130  0.186260  1.100802\n",
      "2000-01-09  0.631256 -0.072060 -0.482509 -0.112928\n",
      "2000-01-10  1.003259 -0.009573 -0.179913  0.603532\n",
      "2000-01-01    0.144756\n",
      "2000-01-02    0.250572\n",
      "2000-01-03    0.445231\n",
      "2000-01-04   -0.130829\n",
      "2000-01-05   -1.589941\n",
      "2000-01-06   -2.060270\n",
      "2000-01-07   -0.604183\n",
      "2000-01-08    0.135836\n",
      "2000-01-09    1.042761\n",
      "2000-01-10    1.021237\n",
      "Freq: D, Name: A, dtype: float64\n"
     ]
    },
    {
     "name": "stderr",
     "output_type": "stream",
     "text": [
      "C:\\Users\\ALR\\AppData\\Local\\Temp\\ipykernel_13568\\4027794265.py:15: FutureWarning: The provided callable <function sum at 0x000001F360073740> is currently using Rolling.sum. In a future version of pandas, the provided callable will be used directly. To keep current behavior pass the string \"sum\" instead.\n",
      "  print(r['A'].aggregate(np.sum))\n"
     ]
    }
   ],
   "source": [
    "###Apply Aggregation on a Single Column of a DataFrame\n",
    "### Example: Aggregation on Column 'A'\n",
    "\n",
    "import pandas as pd\n",
    "import numpy as np\n",
    "\n",
    "df = pd.DataFrame(np.random.randn(10, 4),\n",
    "   index=pd.date_range('1/1/2000', periods=10),\n",
    "   columns=['A', 'B', 'C', 'D'])\n",
    "\n",
    "print(df)\n",
    "\n",
    "# Apply sum aggregation on column 'A'\n",
    "r = df.rolling(window=3, min_periods=1)\n",
    "print(r['A'].aggregate(np.sum))\n"
   ]
  },
  {
   "cell_type": "code",
   "execution_count": 4,
   "metadata": {},
   "outputs": [
    {
     "name": "stdout",
     "output_type": "stream",
     "text": [
      "                   A         B         C         D\n",
      "2000-01-01 -0.800489  0.793714 -1.380754 -0.664357\n",
      "2000-01-02  0.360969  0.315904  0.197595  1.030277\n",
      "2000-01-03 -1.279351  0.064060  0.768262  1.108920\n",
      "2000-01-04  1.591281 -0.172617 -1.097179  0.167948\n",
      "2000-01-05 -1.269634 -0.420780  0.518965 -0.634154\n",
      "2000-01-06 -0.185029 -0.559293 -0.153215  0.480625\n",
      "2000-01-07 -0.940660 -0.802927 -1.091369  0.684843\n",
      "2000-01-08  0.143309 -1.630684  0.834668  0.487298\n",
      "2000-01-09  0.362447 -0.693627 -0.872652  0.901595\n",
      "2000-01-10 -1.264910 -0.707976  0.076191  1.107922\n",
      "                   A         B\n",
      "2000-01-01 -0.800489  0.793714\n",
      "2000-01-02 -0.439520  1.109618\n",
      "2000-01-03 -1.718870  1.173678\n",
      "2000-01-04  0.672899  0.207348\n",
      "2000-01-05 -0.957704 -0.529337\n",
      "2000-01-06  0.136618 -1.152690\n",
      "2000-01-07 -2.395323 -1.783000\n",
      "2000-01-08 -0.982380 -2.992904\n",
      "2000-01-09 -0.434903 -3.127238\n",
      "2000-01-10 -0.759153 -3.032288\n"
     ]
    },
    {
     "name": "stderr",
     "output_type": "stream",
     "text": [
      "C:\\Users\\ALR\\AppData\\Local\\Temp\\ipykernel_13568\\3751679096.py:14: FutureWarning: The provided callable <function sum at 0x000001F360073740> is currently using Rolling.sum. In a future version of pandas, the provided callable will be used directly. To keep current behavior pass the string \"sum\" instead.\n",
      "  print(r[['A', 'B']].aggregate(np.sum))\n"
     ]
    }
   ],
   "source": [
    "###Apply Aggregation on Multiple Columns of a DataFrame\n",
    "### Example: Aggregation on Columns 'A' and 'B'\n",
    "import pandas as pd\n",
    "import numpy as np\n",
    "\n",
    "df = pd.DataFrame(np.random.randn(10, 4),\n",
    "   index=pd.date_range('1/1/2000', periods=10),\n",
    "   columns=['A', 'B', 'C', 'D'])\n",
    "\n",
    "print(df)\n",
    "\n",
    "# Apply sum aggregation on columns 'A' and 'B'\n",
    "r = df.rolling(window=3, min_periods=1)\n",
    "print(r[['A', 'B']].aggregate(np.sum))\n"
   ]
  },
  {
   "cell_type": "code",
   "execution_count": 5,
   "metadata": {},
   "outputs": [
    {
     "name": "stdout",
     "output_type": "stream",
     "text": [
      "                   A         B         C         D\n",
      "2000-01-01  0.409392 -0.062820  1.178808 -1.318340\n",
      "2000-01-02  0.305840 -0.369773  1.091149 -0.021726\n",
      "2000-01-03  1.445945 -0.135124  1.065432  1.732295\n",
      "2000-01-04  0.993323  1.110114 -0.748554  1.104989\n",
      "2000-01-05  0.423855  0.903736 -0.539854 -0.483326\n",
      "2000-01-06  0.280819  0.312367 -0.458028  1.612907\n",
      "2000-01-07  2.085715  0.431356  1.537198 -2.254589\n",
      "2000-01-08  1.808340  0.229082  0.003466 -0.205793\n",
      "2000-01-09  0.905460 -1.140830  0.174333  2.199390\n",
      "2000-01-10  0.017951  0.849699 -0.901233 -1.128512\n",
      "                 sum      mean\n",
      "2000-01-01  0.409392  0.409392\n",
      "2000-01-02  0.715232  0.357616\n",
      "2000-01-03  2.161177  0.720392\n",
      "2000-01-04  2.745108  0.915036\n",
      "2000-01-05  2.863122  0.954374\n",
      "2000-01-06  1.697997  0.565999\n",
      "2000-01-07  2.790390  0.930130\n",
      "2000-01-08  4.174874  1.391625\n",
      "2000-01-09  4.799515  1.599838\n",
      "2000-01-10  2.731750  0.910583\n"
     ]
    },
    {
     "name": "stderr",
     "output_type": "stream",
     "text": [
      "C:\\Users\\ALR\\AppData\\Local\\Temp\\ipykernel_13568\\3389779487.py:14: FutureWarning: The provided callable <function sum at 0x000001F360073740> is currently using Rolling.sum. In a future version of pandas, the provided callable will be used directly. To keep current behavior pass the string \"sum\" instead.\n",
      "  print(r['A'].aggregate([np.sum, np.mean]))\n",
      "C:\\Users\\ALR\\AppData\\Local\\Temp\\ipykernel_13568\\3389779487.py:14: FutureWarning: The provided callable <function mean at 0x000001F3600A0860> is currently using Rolling.mean. In a future version of pandas, the provided callable will be used directly. To keep current behavior pass the string \"mean\" instead.\n",
      "  print(r['A'].aggregate([np.sum, np.mean]))\n"
     ]
    }
   ],
   "source": [
    "### Apply Multiple Functions on a Single Column of a DataFrame\n",
    "### Example: Sum and Mean on Column 'A'\n",
    "import pandas as pd\n",
    "import numpy as np\n",
    "\n",
    "df = pd.DataFrame(np.random.randn(10, 4),\n",
    "   index=pd.date_range('1/1/2000', periods=10),\n",
    "   columns=['A', 'B', 'C', 'D'])\n",
    "\n",
    "print(df)\n",
    "\n",
    "# Apply multiple functions (sum, mean) on column 'A'\n",
    "r = df.rolling(window=3, min_periods=1)\n",
    "print(r['A'].aggregate([np.sum, np.mean]))"
   ]
  },
  {
   "cell_type": "code",
   "execution_count": 6,
   "metadata": {},
   "outputs": [
    {
     "name": "stdout",
     "output_type": "stream",
     "text": [
      "                   A         B         C         D\n",
      "2000-01-01 -0.139240 -0.596464 -2.763943 -1.289045\n",
      "2000-01-02  0.194426 -0.873602  1.521688 -0.559456\n",
      "2000-01-03  0.405141 -1.522920 -0.131899 -1.480256\n",
      "2000-01-04 -0.110997 -0.359319 -0.034925 -1.302594\n",
      "2000-01-05 -1.527400  1.182532  1.068745  0.461122\n",
      "2000-01-06  1.537722  0.155927  0.352085  2.049914\n",
      "2000-01-07 -0.255865 -0.552270  0.348097  0.103570\n",
      "2000-01-08  0.379317 -0.426106  1.077006 -0.322909\n",
      "2000-01-09  0.297161  1.790690  0.376300 -1.324130\n",
      "2000-01-10  0.045447 -1.352502 -0.348367 -0.922277\n",
      "                   A                   B          \n",
      "                 sum      mean       sum      mean\n",
      "2000-01-01 -0.139240 -0.139240 -0.596464 -0.596464\n",
      "2000-01-02  0.055186  0.027593 -1.470066 -0.735033\n",
      "2000-01-03  0.460327  0.153442 -2.992985 -0.997662\n",
      "2000-01-04  0.488570  0.162857 -2.755841 -0.918614\n",
      "2000-01-05 -1.233256 -0.411085 -0.699707 -0.233236\n",
      "2000-01-06 -0.100675 -0.033558  0.979140  0.326380\n",
      "2000-01-07 -0.245543 -0.081848  0.786189  0.262063\n",
      "2000-01-08  1.661175  0.553725 -0.822449 -0.274150\n",
      "2000-01-09  0.420613  0.140204  0.812314  0.270771\n",
      "2000-01-10  0.721926  0.240642  0.012082  0.004027\n"
     ]
    },
    {
     "name": "stderr",
     "output_type": "stream",
     "text": [
      "C:\\Users\\ALR\\AppData\\Local\\Temp\\ipykernel_13568\\3832183459.py:14: FutureWarning: The provided callable <function sum at 0x000001F360073740> is currently using Rolling.sum. In a future version of pandas, the provided callable will be used directly. To keep current behavior pass the string \"sum\" instead.\n",
      "  print(r[['A', 'B']].aggregate([np.sum, np.mean]))\n",
      "C:\\Users\\ALR\\AppData\\Local\\Temp\\ipykernel_13568\\3832183459.py:14: FutureWarning: The provided callable <function mean at 0x000001F3600A0860> is currently using Rolling.mean. In a future version of pandas, the provided callable will be used directly. To keep current behavior pass the string \"mean\" instead.\n",
      "  print(r[['A', 'B']].aggregate([np.sum, np.mean]))\n"
     ]
    }
   ],
   "source": [
    "##Apply Multiple Functions on Multiple Columns of a DataFrame\n",
    "### Example: Sum and Mean on Columns 'A' and 'B'\n",
    "import pandas as pd\n",
    "import numpy as np\n",
    "\n",
    "df = pd.DataFrame(np.random.randn(10, 4),\n",
    "   index=pd.date_range('1/1/2000', periods=10),\n",
    "   columns=['A', 'B', 'C', 'D'])\n",
    "\n",
    "print(df)\n",
    "\n",
    "# Apply multiple functions (sum, mean) on columns 'A' and 'B'\n",
    "r = df.rolling(window=3, min_periods=1)\n",
    "print(r[['A', 'B']].aggregate([np.sum, np.mean]))"
   ]
  },
  {
   "cell_type": "code",
   "execution_count": 7,
   "metadata": {},
   "outputs": [
    {
     "name": "stdout",
     "output_type": "stream",
     "text": [
      "                   A         B         C         D\n",
      "2000-01-01  0.247938  0.644056 -1.922815 -0.933584\n",
      "2000-01-02 -1.092911  1.485173  0.019007  0.913510\n",
      "2000-01-03  0.214596  1.421624  0.681475  0.148182\n",
      "                   A         B\n",
      "2000-01-01  0.247938  0.644056\n",
      "2000-01-02 -0.844972  1.064614\n",
      "2000-01-03 -0.630376  1.183618\n"
     ]
    },
    {
     "name": "stderr",
     "output_type": "stream",
     "text": [
      "C:\\Users\\ALR\\AppData\\Local\\Temp\\ipykernel_13568\\3267003945.py:14: FutureWarning: The provided callable <function sum at 0x000001F360073740> is currently using Rolling.sum. In a future version of pandas, the provided callable will be used directly. To keep current behavior pass the string \"sum\" instead.\n",
      "  print(r.aggregate({'A': np.sum, 'B': np.mean}))\n",
      "C:\\Users\\ALR\\AppData\\Local\\Temp\\ipykernel_13568\\3267003945.py:14: FutureWarning: The provided callable <function mean at 0x000001F3600A0860> is currently using Rolling.mean. In a future version of pandas, the provided callable will be used directly. To keep current behavior pass the string \"mean\" instead.\n",
      "  print(r.aggregate({'A': np.sum, 'B': np.mean}))\n"
     ]
    }
   ],
   "source": [
    "##Apply Different Functions to Different Columns of a DataFrame\n",
    "### Example: Different Aggregations for Columns 'A' and 'B'\n",
    "import pandas as pd\n",
    "import numpy as np\n",
    "\n",
    "df = pd.DataFrame(np.random.randn(3, 4),\n",
    "   index=pd.date_range('1/1/2000', periods=3),\n",
    "   columns=['A', 'B', 'C', 'D'])\n",
    "\n",
    "print(df)\n",
    "\n",
    "# Apply different functions to columns\n",
    "r = df.rolling(window=3, min_periods=1)\n",
    "print(r.aggregate({'A': np.sum, 'B': np.mean}))"
   ]
  },
  {
   "cell_type": "code",
   "execution_count": null,
   "metadata": {},
   "outputs": [],
   "source": []
  },
  {
   "cell_type": "code",
   "execution_count": null,
   "metadata": {},
   "outputs": [],
   "source": []
  }
 ],
 "metadata": {
  "kernelspec": {
   "display_name": "base",
   "language": "python",
   "name": "python3"
  },
  "language_info": {
   "codemirror_mode": {
    "name": "ipython",
    "version": 3
   },
   "file_extension": ".py",
   "mimetype": "text/x-python",
   "name": "python",
   "nbconvert_exporter": "python",
   "pygments_lexer": "ipython3",
   "version": "3.12.7"
  }
 },
 "nbformat": 4,
 "nbformat_minor": 2
}
