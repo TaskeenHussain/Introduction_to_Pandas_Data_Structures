{
 "cells": [
  {
   "cell_type": "markdown",
   "metadata": {},
   "source": []
  },
  {
   "cell_type": "code",
   "execution_count": 1,
   "metadata": {},
   "outputs": [
    {
     "name": "stdout",
     "output_type": "stream",
     "text": [
      "        one       two     three\n",
      "a  0.165155  0.932365 -0.042613\n",
      "b       NaN       NaN       NaN\n",
      "c  0.036699  0.492256  2.497011\n",
      "d       NaN       NaN       NaN\n",
      "e -1.962122 -0.051650  1.399697\n",
      "f -0.830838  0.157540  0.278874\n",
      "g       NaN       NaN       NaN\n",
      "h  1.105890 -1.128467  1.486829\n"
     ]
    }
   ],
   "source": [
    "### Create a DataFrame and Reindex\n",
    "import pandas as pd\n",
    "import numpy as np\n",
    "\n",
    "# Create a DataFrame\n",
    "df = pd.DataFrame(np.random.randn(5, 3), \n",
    "                  index=['a', 'c', 'e', 'f', 'h'], \n",
    "                  columns=['one', 'two', 'three'])\n",
    "\n",
    "# Reindex the DataFrame\n",
    "df = df.reindex(['a', 'b', 'c', 'd', 'e', 'f', 'g', 'h'])\n",
    "\n",
    "print(df)"
   ]
  },
  {
   "cell_type": "code",
   "execution_count": 2,
   "metadata": {},
   "outputs": [
    {
     "name": "stdout",
     "output_type": "stream",
     "text": [
      "a    False\n",
      "b     True\n",
      "c    False\n",
      "d     True\n",
      "e    False\n",
      "f    False\n",
      "g     True\n",
      "h    False\n",
      "Name: one, dtype: bool\n"
     ]
    }
   ],
   "source": [
    "### Check for Missing Values\n",
    "### Example 1: Check for Null Values\n",
    "import pandas as pd\n",
    "import numpy as np\n",
    "\n",
    "df = pd.DataFrame(np.random.randn(5, 3), \n",
    "                  index=['a', 'c', 'e', 'f', 'h'], \n",
    "                  columns=['one', 'two', 'three'])\n",
    "\n",
    "df = df.reindex(['a', 'b', 'c', 'd', 'e', 'f', 'g', 'h'])\n",
    "\n",
    "print(df['one'].isnull())\n"
   ]
  },
  {
   "cell_type": "code",
   "execution_count": 3,
   "metadata": {},
   "outputs": [
    {
     "name": "stdout",
     "output_type": "stream",
     "text": [
      "a     True\n",
      "b    False\n",
      "c     True\n",
      "d    False\n",
      "e     True\n",
      "f     True\n",
      "g    False\n",
      "h     True\n",
      "Name: one, dtype: bool\n"
     ]
    }
   ],
   "source": [
    "### Example 2: Check for Non-Null Values\n",
    "import pandas as pd\n",
    "import numpy as np\n",
    "\n",
    "df = pd.DataFrame(np.random.randn(5, 3), \n",
    "                  index=['a', 'c', 'e', 'f', 'h'], \n",
    "                  columns=['one', 'two', 'three'])\n",
    "\n",
    "df = df.reindex(['a', 'b', 'c', 'd', 'e', 'f', 'g', 'h'])\n",
    "\n",
    "print(df['one'].notnull())"
   ]
  },
  {
   "cell_type": "code",
   "execution_count": 4,
   "metadata": {},
   "outputs": [
    {
     "name": "stdout",
     "output_type": "stream",
     "text": [
      "1.6874779755452707\n"
     ]
    }
   ],
   "source": [
    "### Calculations with Missing Data\n",
    "### Example 1: Sum of a Column\n",
    "import pandas as pd\n",
    "import numpy as np\n",
    "\n",
    "df = pd.DataFrame(np.random.randn(5, 3), \n",
    "                  index=['a', 'c', 'e', 'f', 'h'], \n",
    "                  columns=['one', 'two', 'three'])\n",
    "\n",
    "df = df.reindex(['a', 'b', 'c', 'd', 'e', 'f', 'g', 'h'])\n",
    "\n",
    "print(df['one'].sum())"
   ]
  },
  {
   "cell_type": "code",
   "execution_count": 5,
   "metadata": {},
   "outputs": [
    {
     "name": "stdout",
     "output_type": "stream",
     "text": [
      "0\n"
     ]
    }
   ],
   "source": [
    "### Example 2: Sum with Missing Values\n",
    "import pandas as pd\n",
    "import numpy as np\n",
    "\n",
    "df = pd.DataFrame(index=[0, 1, 2, 3, 4, 5], columns=['one', 'two'])\n",
    "\n",
    "print(df['one'].sum())"
   ]
  },
  {
   "cell_type": "code",
   "execution_count": 6,
   "metadata": {},
   "outputs": [
    {
     "name": "stdout",
     "output_type": "stream",
     "text": [
      "        one       two     three\n",
      "a -0.368186 -1.511181  0.967688\n",
      "b       NaN       NaN       NaN\n",
      "c -1.282333  1.027555 -0.585463\n",
      "NaN replaced with '0':\n",
      "        one       two     three\n",
      "a -0.368186 -1.511181  0.967688\n",
      "b  0.000000  0.000000  0.000000\n",
      "c -1.282333  1.027555 -0.585463\n"
     ]
    }
   ],
   "source": [
    "### Replace NaN with a Scalar Value\n",
    "import pandas as pd\n",
    "import numpy as np\n",
    "\n",
    "df = pd.DataFrame(np.random.randn(3, 3), \n",
    "                  index=['a', 'c', 'e'], \n",
    "                  columns=['one', 'two', 'three'])\n",
    "\n",
    "df = df.reindex(['a', 'b', 'c'])\n",
    "\n",
    "print(df)\n",
    "print(\"NaN replaced with '0':\")\n",
    "print(df.fillna(0))\n"
   ]
  },
  {
   "cell_type": "code",
   "execution_count": 7,
   "metadata": {},
   "outputs": [
    {
     "name": "stdout",
     "output_type": "stream",
     "text": [
      "        one       two     three\n",
      "a -0.303803 -0.624866  1.029964\n",
      "b -0.303803 -0.624866  1.029964\n",
      "c  0.645432  0.294801 -0.292823\n",
      "d  0.645432  0.294801 -0.292823\n",
      "e -0.482310 -0.188421 -0.721041\n",
      "f -0.504310  1.633316  0.024969\n",
      "g -0.504310  1.633316  0.024969\n",
      "h  0.188459 -0.313155 -1.906799\n"
     ]
    },
    {
     "name": "stderr",
     "output_type": "stream",
     "text": [
      "C:\\Users\\ALR\\AppData\\Local\\Temp\\ipykernel_1624\\4149942188.py:12: FutureWarning: DataFrame.fillna with 'method' is deprecated and will raise in a future version. Use obj.ffill() or obj.bfill() instead.\n",
      "  print(df.fillna(method='pad'))\n"
     ]
    }
   ],
   "source": [
    "### Fill NA Forward and Backward\n",
    "### Example 1: Forward Fill\n",
    "import pandas as pd\n",
    "import numpy as np\n",
    "\n",
    "df = pd.DataFrame(np.random.randn(5, 3), \n",
    "                  index=['a', 'c', 'e', 'f', 'h'], \n",
    "                  columns=['one', 'two', 'three'])\n",
    "\n",
    "df = df.reindex(['a', 'b', 'c', 'd', 'e', 'f', 'g', 'h'])\n",
    "\n",
    "print(df.fillna(method='pad'))"
   ]
  },
  {
   "cell_type": "code",
   "execution_count": 8,
   "metadata": {},
   "outputs": [
    {
     "name": "stdout",
     "output_type": "stream",
     "text": [
      "        one       two     three\n",
      "a -0.079356  1.273583  1.461806\n",
      "b -2.178723 -0.561080 -1.343031\n",
      "c -2.178723 -0.561080 -1.343031\n",
      "d  0.070053  0.120466  1.445779\n",
      "e  0.070053  0.120466  1.445779\n",
      "f  1.423508 -0.707165  0.421545\n",
      "g  1.268212 -0.300893  2.220439\n",
      "h  1.268212 -0.300893  2.220439\n"
     ]
    },
    {
     "name": "stderr",
     "output_type": "stream",
     "text": [
      "C:\\Users\\ALR\\AppData\\Local\\Temp\\ipykernel_1624\\1950433185.py:11: FutureWarning: DataFrame.fillna with 'method' is deprecated and will raise in a future version. Use obj.ffill() or obj.bfill() instead.\n",
      "  print(df.fillna(method='backfill'))\n"
     ]
    }
   ],
   "source": [
    "### Example 2: Backward Fill\n",
    "import pandas as pd\n",
    "import numpy as np\n",
    "\n",
    "df = pd.DataFrame(np.random.randn(5, 3), \n",
    "                  index=['a', 'c', 'e', 'f', 'h'], \n",
    "                  columns=['one', 'two', 'three'])\n",
    "\n",
    "df = df.reindex(['a', 'b', 'c', 'd', 'e', 'f', 'g', 'h'])\n",
    "\n",
    "print(df.fillna(method='backfill'))"
   ]
  },
  {
   "cell_type": "code",
   "execution_count": 9,
   "metadata": {},
   "outputs": [
    {
     "name": "stdout",
     "output_type": "stream",
     "text": [
      "        one       two     three\n",
      "a -0.421312 -0.297195  0.315855\n",
      "c -0.993886  0.325089 -1.442511\n",
      "e  0.874641  0.353433 -0.035514\n",
      "f  1.037967  0.442367  1.717675\n",
      "h -1.523926 -0.096478  0.321625\n"
     ]
    }
   ],
   "source": [
    "### Drop Missing Values\n",
    "### Example 1: Drop Rows with Missing Values\n",
    "import pandas as pd\n",
    "import numpy as np\n",
    "\n",
    "df = pd.DataFrame(np.random.randn(5, 3), \n",
    "                  index=['a', 'c', 'e', 'f', 'h'], \n",
    "                  columns=['one', 'two', 'three'])\n",
    "\n",
    "df = df.reindex(['a', 'b', 'c', 'd', 'e', 'f', 'g', 'h'])\n",
    "\n",
    "print(df.dropna())"
   ]
  },
  {
   "cell_type": "code",
   "execution_count": 11,
   "metadata": {},
   "outputs": [
    {
     "name": "stdout",
     "output_type": "stream",
     "text": [
      "Empty DataFrame\n",
      "Columns: []\n",
      "Index: [a, b, c, d, e, f, g, h]\n"
     ]
    }
   ],
   "source": [
    "#### Example 2: Drop Columns with Missing Values\n",
    "import pandas as pd\n",
    "import numpy as np\n",
    "\n",
    "df = pd.DataFrame(np.random.randn(5, 3), \n",
    "                  index=['a', 'c', 'e', 'f', 'h'], \n",
    "                  columns=['one', 'two', 'three'])\n",
    "\n",
    "df = df.reindex(['a', 'b', 'c', 'd', 'e', 'f', 'g', 'h'])\n",
    "\n",
    "print(df.dropna(axis=1))"
   ]
  },
  {
   "cell_type": "code",
   "execution_count": 12,
   "metadata": {},
   "outputs": [
    {
     "name": "stdout",
     "output_type": "stream",
     "text": [
      "   one  two\n",
      "0   10   10\n",
      "1   20    0\n",
      "2   30   30\n",
      "3   40   40\n",
      "4   50   50\n",
      "5   60   60\n"
     ]
    }
   ],
   "source": [
    "### Replace Missing (or Generic) Values\n",
    "### Example 1: Replace Specific Values\n",
    "import pandas as pd\n",
    "import numpy as np\n",
    "\n",
    "df = pd.DataFrame({'one': [10, 20, 30, 40, 50, 2000], \n",
    "                   'two': [1000, 0, 30, 40, 50, 60]})\n",
    "\n",
    "print(df.replace({1000: 10, 2000: 60}))"
   ]
  },
  {
   "cell_type": "code",
   "execution_count": 13,
   "metadata": {},
   "outputs": [
    {
     "name": "stdout",
     "output_type": "stream",
     "text": [
      "   one  two\n",
      "0   10   10\n",
      "1   20    0\n",
      "2   30   30\n",
      "3   40   40\n",
      "4   50   50\n",
      "5   60   60\n"
     ]
    }
   ],
   "source": [
    "### Example 2: Replace Specific Values (Alternative)\n",
    "import pandas as pd\n",
    "import numpy as np\n",
    "\n",
    "df = pd.DataFrame({'one': [10, 20, 30, 40, 50, 2000], \n",
    "                   'two': [1000, 0, 30, 40, 50, 60]})\n",
    "\n",
    "print(df.replace({1000: 10, 2000: 60}))"
   ]
  },
  {
   "cell_type": "code",
   "execution_count": null,
   "metadata": {},
   "outputs": [],
   "source": []
  },
  {
   "cell_type": "code",
   "execution_count": null,
   "metadata": {},
   "outputs": [],
   "source": []
  },
  {
   "cell_type": "code",
   "execution_count": null,
   "metadata": {},
   "outputs": [],
   "source": []
  }
 ],
 "metadata": {
  "kernelspec": {
   "display_name": "base",
   "language": "python",
   "name": "python3"
  },
  "language_info": {
   "codemirror_mode": {
    "name": "ipython",
    "version": 3
   },
   "file_extension": ".py",
   "mimetype": "text/x-python",
   "name": "python",
   "nbconvert_exporter": "python",
   "pygments_lexer": "ipython3",
   "version": "3.12.7"
  }
 },
 "nbformat": 4,
 "nbformat_minor": 2
}
