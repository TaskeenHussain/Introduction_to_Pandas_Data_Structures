{
 "cells": [
  {
   "cell_type": "markdown",
   "metadata": {},
   "source": []
  },
  {
   "cell_type": "markdown",
   "metadata": {},
   "source": [
    "Concatenating DataFrames: This merges the two DataFrames one and two along the rows (default behavior)."
   ]
  },
  {
   "cell_type": "code",
   "execution_count": 1,
   "metadata": {},
   "outputs": [
    {
     "name": "stdout",
     "output_type": "stream",
     "text": [
      "     Name subject_id  Marks_scored\n",
      "1    Alex       sub1            98\n",
      "2     Amy       sub2            90\n",
      "3   Allen       sub4            87\n",
      "4   Alice       sub6            69\n",
      "5  Ayoung       sub5            78\n",
      "1   Billy       sub2            89\n",
      "2   Brian       sub4            80\n",
      "3    Bran       sub3            79\n",
      "4   Bryce       sub6            97\n",
      "5   Betty       sub5            88\n"
     ]
    }
   ],
   "source": [
    "### Concatenating Objects\n",
    "\n",
    "import pandas as pd\n",
    "\n",
    "# Create DataFrames\n",
    "one = pd.DataFrame({\n",
    "   'Name': ['Alex', 'Amy', 'Allen', 'Alice', 'Ayoung'],\n",
    "   'subject_id':['sub1','sub2','sub4','sub6','sub5'],\n",
    "   'Marks_scored':[98,90,87,69,78]},\n",
    "   index=[1,2,3,4,5])\n",
    "\n",
    "two = pd.DataFrame({\n",
    "   'Name': ['Billy', 'Brian', 'Bran', 'Bryce', 'Betty'],\n",
    "   'subject_id':['sub2','sub4','sub3','sub6','sub5'],\n",
    "   'Marks_scored':[89,80,79,97,88]},\n",
    "   index=[1,2,3,4,5])\n",
    "\n",
    "# Concatenate two DataFrames\n",
    "print(pd.concat([one, two]))"
   ]
  },
  {
   "cell_type": "markdown",
   "metadata": {},
   "source": []
  },
  {
   "cell_type": "code",
   "execution_count": 3,
   "metadata": {},
   "outputs": [
    {
     "name": "stdout",
     "output_type": "stream",
     "text": [
      "       Name subject_id  Marks_scored\n",
      "x 1    Alex       sub1            98\n",
      "  2     Amy       sub2            90\n",
      "  3   Allen       sub4            87\n",
      "  4   Alice       sub6            69\n",
      "  5  Ayoung       sub5            78\n",
      "y 1   Billy       sub2            89\n",
      "  2   Brian       sub4            80\n",
      "  3    Bran       sub3            79\n",
      "  4   Bryce       sub6            97\n",
      "  5   Betty       sub5            88\n"
     ]
    }
   ],
   "source": [
    "# Concatenate two DataFrames with Keys for hierarchical indexing\n",
    "print(pd.concat([one, two], keys=['x', 'y']))\n",
    "### Adding Keys: The keys parameter assigns labels ('x' and 'y') for the concatenated DataFrames, \n",
    "# allowing hierarchical indexing.\n"
   ]
  },
  {
   "cell_type": "code",
   "execution_count": 4,
   "metadata": {},
   "outputs": [
    {
     "name": "stdout",
     "output_type": "stream",
     "text": [
      "     Name subject_id  Marks_scored\n",
      "0    Alex       sub1            98\n",
      "1     Amy       sub2            90\n",
      "2   Allen       sub4            87\n",
      "3   Alice       sub6            69\n",
      "4  Ayoung       sub5            78\n",
      "5   Billy       sub2            89\n",
      "6   Brian       sub4            80\n",
      "7    Bran       sub3            79\n",
      "8   Bryce       sub6            97\n",
      "9   Betty       sub5            88\n"
     ]
    }
   ],
   "source": [
    "# Concatenate two DataFrames, ignoring the index and resetting it\n",
    "print(pd.concat([one, two], keys=['x', 'y'], ignore_index=True))\n",
    "\n",
    "### Ignore Index: The ignore_index=True resets the index in the result, instead of keeping the original indices from\n",
    "## the DataFrames. \n"
   ]
  },
  {
   "cell_type": "code",
   "execution_count": 5,
   "metadata": {},
   "outputs": [
    {
     "name": "stdout",
     "output_type": "stream",
     "text": [
      "     Name subject_id  Marks_scored   Name subject_id  Marks_scored\n",
      "1    Alex       sub1            98  Billy       sub2            89\n",
      "2     Amy       sub2            90  Brian       sub4            80\n",
      "3   Allen       sub4            87   Bran       sub3            79\n",
      "4   Alice       sub6            69  Bryce       sub6            97\n",
      "5  Ayoung       sub5            78  Betty       sub5            88\n"
     ]
    }
   ],
   "source": [
    "# Concatenate two DataFrames along columns (axis=1)\n",
    "print(pd.concat([one, two], axis=1))\n",
    "#### Concatenating along columns: This merges the DataFrames side by side (axis=1), \n",
    "# combining columns instead of rows. \n"
   ]
  },
  {
   "cell_type": "code",
   "execution_count": null,
   "metadata": {},
   "outputs": [
    {
     "name": "stdout",
     "output_type": "stream",
     "text": [
      "Concatenated DataFrame:\n",
      "     Name subject_id  Marks_scored\n",
      "0    Alex       sub1            98\n",
      "1     Amy       sub2            90\n",
      "2   Allen       sub4            87\n",
      "3   Alice       sub6            69\n",
      "4  Ayoung       sub5            78\n",
      "5   Billy       sub2            89\n",
      "6   Brian       sub4            80\n",
      "7    Bran       sub3            79\n",
      "8   Bryce       sub6            97\n",
      "9   Betty       sub5            88\n"
     ]
    }
   ],
   "source": [
    "### ### Concatenating Using append\n",
    "\n",
    "import pandas as pd\n",
    "\n",
    "# Define two DataFrames\n",
    "one = pd.DataFrame({\n",
    "    'Name': ['Alex', 'Amy', 'Allen', 'Alice', 'Ayoung'],\n",
    "    'subject_id': ['sub1', 'sub2', 'sub4', 'sub6', 'sub5'],\n",
    "    'Marks_scored': [98, 90, 87, 69, 78]\n",
    "}, index=[1, 2, 3, 4, 5])\n",
    "\n",
    "two = pd.DataFrame({\n",
    "    'Name': ['Billy', 'Brian', 'Bran', 'Bryce', 'Betty'],\n",
    "    'subject_id': ['sub2', 'sub4', 'sub3', 'sub6', 'sub5'],\n",
    "    'Marks_scored': [89, 80, 79, 97, 88]\n",
    "}, index=[1, 2, 3, 4, 5])\n",
    "\n",
    "# Use pd.concat() to append one DataFrame to another\n",
    "result = pd.concat([one, two], ignore_index=True)\n",
    "\n",
    "print(\"Concatenated DataFrame:\")\n",
    "print(result)\n"
   ]
  },
  {
   "cell_type": "code",
   "execution_count": 24,
   "metadata": {},
   "outputs": [
    {
     "name": "stdout",
     "output_type": "stream",
     "text": [
      "Appended DataFrame:\n",
      "     Name subject_id  Marks_scored\n",
      "0    Alex       sub1            98\n",
      "1     Amy       sub2            90\n",
      "2   Allen       sub4            87\n",
      "3   Alice       sub6            69\n",
      "4  Ayoung       sub5            78\n",
      "5   Billy       sub2            89\n",
      "6   Brian       sub4            80\n",
      "7    Bran       sub3            79\n",
      "8   Bryce       sub6            97\n",
      "9   Betty       sub5            88\n"
     ]
    }
   ],
   "source": [
    "\n",
    "# Append one DataFrame to another\n",
    "import pandas as pd\n",
    "\n",
    "# Create the first DataFrame\n",
    "one = pd.DataFrame({\n",
    "    'Name': ['Alex', 'Amy', 'Allen', 'Alice', 'Ayoung'],\n",
    "    'subject_id': ['sub1', 'sub2', 'sub4', 'sub6', 'sub5'],\n",
    "    'Marks_scored': [98, 90, 87, 69, 78]\n",
    "})\n",
    "\n",
    "# Create the second DataFrame\n",
    "two = pd.DataFrame({\n",
    "    'Name': ['Billy', 'Brian', 'Bran', 'Bryce', 'Betty'],\n",
    "    'subject_id': ['sub2', 'sub4', 'sub3', 'sub6', 'sub5'],\n",
    "    'Marks_scored': [89, 80, 79, 97, 88]\n",
    "})\n",
    "\n",
    "# Append one DataFrame to another using pd.concat\n",
    "result = pd.concat([one, two], ignore_index=True)\n",
    "\n",
    "print(\"Appended DataFrame:\")\n",
    "print(result)\n",
    " "
   ]
  },
  {
   "cell_type": "code",
   "execution_count": 12,
   "metadata": {},
   "outputs": [
    {
     "name": "stdout",
     "output_type": "stream",
     "text": [
      "2017-03-01 00:00:00\n",
      "2020-04-24 00:14:15\n"
     ]
    }
   ],
   "source": [
    "### Time Series\n",
    "### Create a TimeStamp\n",
    "import pandas as pd\n",
    "\n",
    "# Create a Timestamp object\n",
    "print(pd.Timestamp('2017-03-01'))\n",
    "\n",
    "### Timestamp: Creates a Timestamp object representing a specific date and time.\n",
    "\n",
    "import pandas as pd\n",
    "\n",
    "# Create a Timestamp from Unix time\n",
    "print(pd.Timestamp(1587687255, unit='s'))\n",
    "### Unix Time to Timestamp: Converts Unix time (seconds since the Unix epoch) into a Timestamp."
   ]
  },
  {
   "cell_type": "code",
   "execution_count": 14,
   "metadata": {},
   "outputs": [
    {
     "name": "stdout",
     "output_type": "stream",
     "text": [
      "[datetime.time(11, 0) datetime.time(11, 30) datetime.time(12, 0)\n",
      " datetime.time(12, 30) datetime.time(13, 0) datetime.time(13, 30)]\n",
      "[datetime.time(11, 0) datetime.time(12, 0) datetime.time(13, 0)]\n"
     ]
    },
    {
     "name": "stderr",
     "output_type": "stream",
     "text": [
      "C:\\Users\\ALR\\AppData\\Local\\Temp\\ipykernel_15636\\1898905176.py:11: FutureWarning: 'H' is deprecated and will be removed in a future version, please use 'h' instead.\n",
      "  print(pd.date_range(\"11:00\", \"13:30\", freq=\"H\").time)\n"
     ]
    }
   ],
   "source": [
    "### Create a Range of Time\n",
    "import pandas as pd\n",
    "\n",
    "# Generate a range of times with a 30-minute frequency\n",
    "print(pd.date_range(\"11:00\", \"13:30\", freq=\"30min\").time)\n",
    "### Time Range: This creates a range of times from 11:00 AM to 1:30 PM with a frequency of 30 minutes.\n",
    "### Change the Frequency of Time\n",
    "import pandas as pd\n",
    "\n",
    "# Generate a range of times with an hourly frequency\n",
    "print(pd.date_range(\"11:00\", \"13:30\", freq=\"H\").time)\n",
    "### Hourly Time Range: This generates a range of times from 11:00 AM to 1:30 PM, with an hourly frequency.\n"
   ]
  },
  {
   "cell_type": "code",
   "execution_count": 21,
   "metadata": {},
   "outputs": [
    {
     "name": "stdout",
     "output_type": "stream",
     "text": [
      "0   2009-07-31\n",
      "1          NaT\n",
      "2          NaT\n",
      "dtype: datetime64[ns]\n"
     ]
    }
   ],
   "source": [
    "import pandas as pd\n",
    "\n",
    "# Convert a Series of date strings to Timestamps\n",
    "# Allow pandas to infer mixed date formats\n",
    "print(pd.to_datetime(pd.Series(['Jul 31, 2009', '2010-01-10', None]), errors='coerce'))\n"
   ]
  },
  {
   "cell_type": "code",
   "execution_count": 22,
   "metadata": {},
   "outputs": [
    {
     "name": "stdout",
     "output_type": "stream",
     "text": [
      "DatetimeIndex(['2005-11-23', 'NaT', 'NaT'], dtype='datetime64[ns]', freq=None)\n"
     ]
    }
   ],
   "source": [
    "import pandas as pd\n",
    "\n",
    "# Convert multiple date formats into Timestamps\n",
    "# Allow pandas to handle mixed formats\n",
    "print(pd.to_datetime(['2005/11/23', '2010.12.31', None], errors='coerce'))\n"
   ]
  }
 ],
 "metadata": {
  "kernelspec": {
   "display_name": "base",
   "language": "python",
   "name": "python3"
  },
  "language_info": {
   "codemirror_mode": {
    "name": "ipython",
    "version": 3
   },
   "file_extension": ".py",
   "mimetype": "text/x-python",
   "name": "python",
   "nbconvert_exporter": "python",
   "pygments_lexer": "ipython3",
   "version": "3.12.7"
  }
 },
 "nbformat": 4,
 "nbformat_minor": 2
}
