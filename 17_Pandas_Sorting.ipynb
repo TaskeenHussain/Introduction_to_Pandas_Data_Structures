{
 "cells": [
  {
   "cell_type": "markdown",
   "metadata": {},
   "source": [
    "### Pandas Sorting"
   ]
  },
  {
   "cell_type": "markdown",
   "metadata": {},
   "source": [
    "### 1: Creating an Unsorted DataFrame\n",
    "#### This code creates a DataFrame with random values and an unsorted index. The index is intentionally out of order to demonstrate sorting operations.\n"
   ]
  },
  {
   "cell_type": "code",
   "execution_count": 2,
   "metadata": {},
   "outputs": [
    {
     "name": "stdout",
     "output_type": "stream",
     "text": [
      "       col2      col1\n",
      "1 -0.112738 -0.977181\n",
      "4  1.339960  0.498410\n",
      "6  1.408524 -0.736516\n",
      "2  0.155146 -0.884096\n",
      "3 -0.225137 -0.931986\n",
      "5 -0.146517  1.308316\n",
      "9 -2.081960  1.015681\n",
      "8  0.429243  0.798484\n",
      "0  0.457211  0.871171\n",
      "7  0.241123  0.095657\n"
     ]
    }
   ],
   "source": [
    "import pandas as pd\n",
    "import numpy as np\n",
    "unsorted_df = pd.DataFrame(np.random.randn(10, 2), index=[1, 4, 6, 2, 3, 5, 9, 8, 0, 7],\n",
    "                           columns=['col2', 'col1'])\n",
    "print(unsorted_df)"
   ]
  },
  {
   "cell_type": "markdown",
   "metadata": {},
   "source": [
    "### 2: Sorting by Index (By Label)\n",
    "##### The sort_index() method sorts the DataFrame by its index in ascending order. The rows are rearranged based on the sorted index."
   ]
  },
  {
   "cell_type": "code",
   "execution_count": 3,
   "metadata": {},
   "outputs": [
    {
     "name": "stdout",
     "output_type": "stream",
     "text": [
      "       col2      col1\n",
      "0  0.882056  1.899861\n",
      "1  0.294424  0.210717\n",
      "2  0.980631  1.447032\n",
      "3  0.285231 -0.079704\n",
      "4 -0.152920  0.209718\n",
      "5  0.482982  0.860840\n",
      "6 -0.451161 -0.550937\n",
      "7  3.039615 -1.433889\n",
      "8  0.361535 -2.175446\n",
      "9 -0.327557  1.357816\n"
     ]
    }
   ],
   "source": [
    "unsorted_df = pd.DataFrame(np.random.randn(10, 2), index=[1, 4, 6, 2, 3, 5, 9, 8, 0, 7],\n",
    "                           columns=['col2', 'col1'])\n",
    "\n",
    "sorted_df = unsorted_df.sort_index()\n",
    "print(sorted_df)"
   ]
  },
  {
   "cell_type": "markdown",
   "metadata": {},
   "source": [
    "### 3: Sorting by Index in Descending Order\n",
    "#### This code sorts the DataFrame by its index in descending order by setting ascending=False in the sort_index() method."
   ]
  },
  {
   "cell_type": "code",
   "execution_count": 4,
   "metadata": {},
   "outputs": [
    {
     "name": "stdout",
     "output_type": "stream",
     "text": [
      "       col2      col1\n",
      "9  0.960931  1.150253\n",
      "8  0.221222 -1.659500\n",
      "7 -0.556256  0.423167\n",
      "6 -0.447280 -1.108667\n",
      "5 -0.454135  0.600766\n",
      "4  0.384542 -0.660293\n",
      "3 -0.493185 -0.710702\n",
      "2 -1.544191  0.292433\n",
      "1  1.172738 -0.108266\n",
      "0  1.015957  0.236999\n"
     ]
    }
   ],
   "source": [
    "unsorted_df = pd.DataFrame(np.random.randn(10, 2), index=[1, 4, 6, 2, 3, 5, 9, 8, 0, 7],\n",
    "                           columns=['col2', 'col1'])\n",
    "\n",
    "sorted_df = unsorted_df.sort_index(ascending=False)\n",
    "print(sorted_df)"
   ]
  },
  {
   "cell_type": "markdown",
   "metadata": {},
   "source": [
    "### 4: Sorting Columns by Label\n",
    "#### The sort_index(axis=1) method sorts the columns of the DataFrame alphabetically by their labels. Here, col1 will appear before col2."
   ]
  },
  {
   "cell_type": "code",
   "execution_count": 5,
   "metadata": {},
   "outputs": [
    {
     "name": "stdout",
     "output_type": "stream",
     "text": [
      "       col1      col2\n",
      "1  0.318733  0.356110\n",
      "4 -0.510327  1.416012\n",
      "6  0.862617  1.393506\n",
      "2  1.548380 -0.287477\n",
      "3 -0.169627  0.227406\n",
      "5  0.631398 -1.105762\n",
      "9  0.215018 -1.803761\n",
      "8 -0.399793  0.054565\n",
      "0 -0.894461  1.037862\n",
      "7 -1.359024  0.133796\n"
     ]
    }
   ],
   "source": [
    "unsorted_df = pd.DataFrame(np.random.randn(10, 2), index=[1, 4, 6, 2, 3, 5, 9, 8, 0, 7],\n",
    "                           columns=['col2', 'col1'])\n",
    "\n",
    "sorted_df = unsorted_df.sort_index(axis=1)\n",
    "print(sorted_df)"
   ]
  },
  {
   "cell_type": "markdown",
   "metadata": {},
   "source": [
    "### 5: Sorting by Column Values\n",
    "#### To sort a table by column values, you can use the `sort()` function. Here's an example: \n",
    "##### The sort_values(by='col1') method sorts the DataFrame based on the values in the col1 column in ascending order."
   ]
  },
  {
   "cell_type": "code",
   "execution_count": 6,
   "metadata": {},
   "outputs": [
    {
     "name": "stdout",
     "output_type": "stream",
     "text": [
      "   col1  col2\n",
      "1     1     3\n",
      "2     1     2\n",
      "3     1     4\n",
      "0     2     1\n"
     ]
    }
   ],
   "source": [
    "unsorted_df = pd.DataFrame({'col1': [2, 1, 1, 1], 'col2': [1, 3, 2, 4]})\n",
    "sorted_df = unsorted_df.sort_values(by='col1')\n",
    "print(sorted_df)"
   ]
  },
  {
   "cell_type": "markdown",
   "metadata": {},
   "source": [
    "### 6: Sorting by Multiple Columns\n",
    "#### This code sorts the DataFrame first by col1 and then by col2. The by parameter accepts a list of columns for multi-column sorting."
   ]
  },
  {
   "cell_type": "code",
   "execution_count": 7,
   "metadata": {},
   "outputs": [
    {
     "name": "stdout",
     "output_type": "stream",
     "text": [
      "   col1  col2\n",
      "2     1     2\n",
      "1     1     3\n",
      "3     1     4\n",
      "0     2     1\n"
     ]
    }
   ],
   "source": [
    "unsorted_df = pd.DataFrame({'col1': [2, 1, 1, 1], 'col2': [1, 3, 2, 4]})\n",
    "sorted_df = unsorted_df.sort_values(by=['col1', 'col2'])\n",
    "print(sorted_df)"
   ]
  },
  {
   "cell_type": "markdown",
   "metadata": {},
   "source": [
    "### 7: Sorting with a Specific Algorithm (Mergesort)\n",
    "##### In this example, we will implement the Mergesort algorithm to sort a list of integers. Mergesort is a divide-and-conquer algorithm that splits the input list into two halves, recursively sorts each half, and then merges the two sorted halves. This process continues until the entire list is sorted. We will use the `merge` function to merge two sorted lists into one sorted list. The `mergesort` function will recursively split the input list into two halves and sort each half using the `mergesort` function. Finally, the `sorted_list` function will call th `mergesort` function to sort the input list. The kind='mergesort' parameter specifies the sorting algorithm to use. Mergesort is a stable sorting algorithm, ensuring that the order of equal elements is preserved. Each code demonstrates different ways to sort a DataFrame, either by index, column labels, or column"
   ]
  },
  {
   "cell_type": "code",
   "execution_count": 8,
   "metadata": {},
   "outputs": [
    {
     "name": "stdout",
     "output_type": "stream",
     "text": [
      "   col1  col2\n",
      "1     1     3\n",
      "2     1     2\n",
      "3     1     4\n",
      "0     2     1\n"
     ]
    }
   ],
   "source": [
    "unsorted_df = pd.DataFrame({'col1': [2, 1, 1, 1], 'col2': [1, 3, 2, 4]})\n",
    "sorted_df = unsorted_df.sort_values(by='col1', kind='mergesort')\n",
    "print(sorted_df)"
   ]
  }
 ],
 "metadata": {
  "kernelspec": {
   "display_name": "base",
   "language": "python",
   "name": "python3"
  },
  "language_info": {
   "codemirror_mode": {
    "name": "ipython",
    "version": 3
   },
   "file_extension": ".py",
   "mimetype": "text/x-python",
   "name": "python",
   "nbconvert_exporter": "python",
   "pygments_lexer": "ipython3",
   "version": "3.12.7"
  }
 },
 "nbformat": 4,
 "nbformat_minor": 2
}
