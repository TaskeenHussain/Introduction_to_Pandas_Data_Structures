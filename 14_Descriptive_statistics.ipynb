{
 "cells": [
  {
   "cell_type": "markdown",
   "metadata": {},
   "source": [
    "### Descriptive_Statistics"
   ]
  },
  {
   "cell_type": "code",
   "execution_count": 1,
   "metadata": {},
   "outputs": [
    {
     "name": "stdout",
     "output_type": "stream",
     "text": [
      "DataFrame:\n",
      "      Name  Age  Rating\n",
      "0   Nadeem   25    4.23\n",
      "1      Ali   26    3.24\n",
      "2     Umar   25    3.98\n",
      "3     Niaz   23    2.56\n",
      "4    Tahir   30    3.20\n",
      "5     Azam   29    4.60\n",
      "6     Asif   23    3.80\n",
      "7   Nabeel   34    3.78\n",
      "8    Kazim   40    2.98\n",
      "9     atif   30    4.80\n",
      "10    Akif   51    4.10\n",
      "11   Aslam   46    3.65\n"
     ]
    }
   ],
   "source": [
    "### 1_ Creating a dataframe\n",
    "import pandas as pd\n",
    "import numpy as np\n",
    "\n",
    "# ### Creating a DataFrame\n",
    "# This snippet creates a DataFrame using a dictionary of Series with updated names.\n",
    "# It prints the DataFrame containing Name, Age, and Rating columns.\n",
    "d = {\n",
    "    'Name': pd.Series(['Nadeem', 'Ali', 'Umar', 'Niaz', 'Tahir', 'Azam', 'Asif', 'Nabeel', 'Kazim', 'atif', 'Akif', 'Aslam']),\n",
    "    'Age': pd.Series([25, 26, 25, 23, 30, 29, 23, 34, 40, 30, 51, 46]),\n",
    "    'Rating': pd.Series([4.23, 3.24, 3.98, 2.56, 3.20, 4.6, 3.8, 3.78, 2.98, 4.80, 4.10, 3.65])\n",
    "}\n",
    "df = pd.DataFrame(d)\n",
    "print(\"DataFrame:\")\n",
    "print(df)\n"
   ]
  },
  {
   "cell_type": "code",
   "execution_count": null,
   "metadata": {},
   "outputs": [],
   "source": []
  },
  {
   "cell_type": "markdown",
   "metadata": {},
   "source": [
    "### 2_ Using the sum() Function (Default axis=0)"
   ]
  },
  {
   "cell_type": "code",
   "execution_count": 2,
   "metadata": {},
   "outputs": [
    {
     "name": "stdout",
     "output_type": "stream",
     "text": [
      "Sum of columns:\n",
      "Name      NadeemAliUmarNiazTahirAzamAsifNabeelKazimatifA...\n",
      "Age                                                     382\n",
      "Rating                                                44.92\n",
      "dtype: object\n"
     ]
    }
   ],
   "source": [
    "import pandas as pd\n",
    "import numpy as np\n",
    "\n",
    "# ### sum() Function (axis=0)\n",
    "# This snippet computes the sum of each column (default axis=0) in the DataFrame.\n",
    "# Numeric columns are added while non-numeric ones (like Name) are concatenated.\n",
    "d = {\n",
    "    'Name': pd.Series(['Nadeem', 'Ali', 'Umar', 'Niaz', 'Tahir', 'Azam', 'Asif', 'Nabeel', 'Kazim', 'atif', 'Akif', 'Aslam']),\n",
    "    'Age': pd.Series([25, 26, 25, 23, 30, 29, 23, 34, 40, 30, 51, 46]),\n",
    "    'Rating': pd.Series([4.23, 3.24, 3.98, 2.56, 3.20, 4.6, 3.8, 3.78, 2.98, 4.80, 4.10, 3.65])\n",
    "}\n",
    "df = pd.DataFrame(d)\n",
    "print(\"Sum of columns:\")\n",
    "print(df.sum())\n"
   ]
  },
  {
   "cell_type": "markdown",
   "metadata": {},
   "source": [
    "### 3_Using sum() with axis=1"
   ]
  },
  {
   "cell_type": "code",
   "execution_count": 15,
   "metadata": {},
   "outputs": [
    {
     "name": "stdout",
     "output_type": "stream",
     "text": [
      "Standard deviation of numeric columns:\n",
      "Age       9.232682\n",
      "Rating    0.661628\n",
      "dtype: float64\n"
     ]
    }
   ],
   "source": [
    "import pandas as pd\n",
    "import numpy as np\n",
    "\n",
    "# ### sum() Function with axis=1\n",
    "# This snippet calculates the sum along each row by setting axis=1 in the sum() function.\n",
    "# It adds the numeric values across columns for each row (non-numeric data is skipped).\n",
    "d = {\n",
    "    'Name': pd.Series(['Nadeem', 'Ali', 'Umar', 'Niaz', 'Tahir', 'Azam', 'Asif', 'Nabeel', 'Kazim', 'atif', 'Akif', 'Aslam']),\n",
    "    'Age': pd.Series([25, 26, 25, 23, 30, 29, 23, 34, 40, 30, 51, 46]),\n",
    "    'Rating': pd.Series([4.23, 3.24, 3.98, 2.56, 3.20, 4.6, 3.8, 3.78, 2.98, 4.80, 4.10, 3.65])\n",
    "}\n",
    "df = pd.DataFrame(d)\n",
    "#print(\"Sum of rows (axis=1):\")\n",
    "#print(df.sum(axis=1))\n",
    "import numpy as np\n",
    "print(\"Standard deviation of numeric columns:\")\n",
    "print(df.select_dtypes(include=[np.number]).std())\n"
   ]
  },
  {
   "cell_type": "markdown",
   "metadata": {},
   "source": [
    "### 4_Calculating the Mean"
   ]
  },
  {
   "cell_type": "code",
   "execution_count": null,
   "metadata": {},
   "outputs": [
    {
     "name": "stdout",
     "output_type": "stream",
     "text": [
      "Mean of numeric columns:\n",
      "0     29.23\n",
      "1     29.24\n",
      "2     28.98\n",
      "3     25.56\n",
      "4     33.20\n",
      "5     33.60\n",
      "6     26.80\n",
      "7     37.78\n",
      "8     42.98\n",
      "9     34.80\n",
      "10    55.10\n",
      "11    49.65\n",
      "dtype: float64\n"
     ]
    }
   ],
   "source": [
    "import pandas as pd\n",
    "import numpy as np\n",
    "\n",
    "# ### mean() Function\n",
    "# This snippet calculates the mean (average) of the numeric columns in the DataFrame.\n",
    "# It automatically excludes non-numeric columns from the computation.\n",
    "d = {\n",
    "    'Name': pd.Series(['Nadeem', 'Ali', 'Umar', 'Niaz', 'Tahir', 'Azam', 'Asif', 'Nabeel', 'Kazim', 'atif', 'Akif', 'Aslam']),\n",
    "    'Age': pd.Series([25, 26, 25, 23, 30, 29, 23, 34, 40, 30, 51, 46]),\n",
    "    'Rating': pd.Series([4.23, 3.24, 3.98, 2.56, 3.20, 4.6, 3.8, 3.78, 2.98, 4.80, 4.10, 3.65])\n",
    "}\n",
    "df = pd.DataFrame(d)\n",
    "print(\"Mean of numeric columns:\")\n",
    "# print(df.mean()) THIS CODE NOT WORKING\n",
    "print(df.sum(axis=1, numeric_only=True))\n"
   ]
  },
  {
   "cell_type": "markdown",
   "metadata": {},
   "source": [
    "### 5_Calculating the Standard Deviation"
   ]
  },
  {
   "cell_type": "code",
   "execution_count": 14,
   "metadata": {},
   "outputs": [
    {
     "name": "stdout",
     "output_type": "stream",
     "text": [
      "Standard deviation of numeric columns:\n",
      "Age       9.232682\n",
      "Rating    0.661628\n",
      "dtype: float64\n"
     ]
    }
   ],
   "source": [
    "\n",
    "import pandas as pd\n",
    "import numpy as np\n",
    "\n",
    "# ### std() Function\n",
    "# This snippet computes the standard deviation for the numeric columns in the DataFrame.\n",
    "# It measures how spread out the numbers are from the mean.\n",
    "d = {\n",
    "    'Name': pd.Series(['Nadeem', 'Ali', 'Umar', 'Niaz', 'Tahir', 'Azam', 'Asif', 'Nabeel', 'Kazim', 'atif', 'Akif', 'Aslam']),\n",
    "    'Age': pd.Series([25, 26, 25, 23, 30, 29, 23, 34, 40, 30, 51, 46]),\n",
    "    'Rating': pd.Series([4.23, 3.24, 3.98, 2.56, 3.20, 4.6, 3.8, 3.78, 2.98, 4.80, 4.10, 3.65])\n",
    "}\n",
    "df = pd.DataFrame(d)\n",
    "#print(\"Standard deviation of numeric columns:\")\n",
    "#print(\"Standard deviation of numeric columns:\")\n",
    "\n",
    "#print(df.std())\n",
    "print(\"Standard deviation of numeric columns:\")\n",
    "print(df.std(numeric_only=True))"
   ]
  },
  {
   "cell_type": "markdown",
   "metadata": {},
   "source": []
  },
  {
   "cell_type": "markdown",
   "metadata": {},
   "source": [
    "### 6_Descriptive Statistics for Numeric Columns"
   ]
  },
  {
   "cell_type": "code",
   "execution_count": 6,
   "metadata": {},
   "outputs": [
    {
     "name": "stdout",
     "output_type": "stream",
     "text": [
      "Descriptive statistics for numeric columns:\n",
      "             Age     Rating\n",
      "count  12.000000  12.000000\n",
      "mean   31.833333   3.743333\n",
      "std     9.232682   0.661628\n",
      "min    23.000000   2.560000\n",
      "25%    25.000000   3.230000\n",
      "50%    29.500000   3.790000\n",
      "75%    35.500000   4.132500\n",
      "max    51.000000   4.800000\n"
     ]
    }
   ],
   "source": [
    "import pandas as pd\n",
    "import numpy as np\n",
    "\n",
    "# ### describe() for Numeric Columns\n",
    "# This snippet uses describe() to generate summary statistics for numeric columns.\n",
    "# It provides metrics such as count, mean, standard deviation, min, max, and percentiles.\n",
    "d = {\n",
    "    'Name': pd.Series(['Nadeem', 'Ali', 'Umar', 'Niaz', 'Tahir', 'Azam', 'Asif', 'Nabeel', 'Kazim', 'atif', 'Akif', 'Aslam']),\n",
    "    'Age': pd.Series([25, 26, 25, 23, 30, 29, 23, 34, 40, 30, 51, 46]),\n",
    "    'Rating': pd.Series([4.23, 3.24, 3.98, 2.56, 3.20, 4.6, 3.8, 3.78, 2.98, 4.80, 4.10, 3.65])\n",
    "}\n",
    "df = pd.DataFrame(d)\n",
    "print(\"Descriptive statistics for numeric columns:\")\n",
    "print(df.describe())"
   ]
  },
  {
   "cell_type": "markdown",
   "metadata": {},
   "source": [
    "### 7_Descriptive Statistics for Object Columns"
   ]
  },
  {
   "cell_type": "code",
   "execution_count": 7,
   "metadata": {},
   "outputs": [
    {
     "name": "stdout",
     "output_type": "stream",
     "text": [
      "Descriptive statistics for object columns:\n",
      "          Name\n",
      "count       12\n",
      "unique      12\n",
      "top     Nadeem\n",
      "freq         1\n"
     ]
    }
   ],
   "source": [
    "import pandas as pd\n",
    "import numpy as np\n",
    "\n",
    "# ### describe() for Object Columns\n",
    "# This snippet generates descriptive statistics for non-numeric (object) columns.\n",
    "# It shows count, unique values, top (most frequent) value, and its frequency.\n",
    "d = {\n",
    "    'Name': pd.Series(['Nadeem', 'Ali', 'Umar', 'Niaz', 'Tahir', 'Azam', 'Asif', 'Nabeel', 'Kazim', 'atif', 'Akif', 'Aslam']),\n",
    "    'Age': pd.Series([25, 26, 25, 23, 30, 29, 23, 34, 40, 30, 51, 46]),\n",
    "    'Rating': pd.Series([4.23, 3.24, 3.98, 2.56, 3.20, 4.6, 3.8, 3.78, 2.98, 4.80, 4.10, 3.65])\n",
    "}\n",
    "df = pd.DataFrame(d)\n",
    "print(\"Descriptive statistics for object columns:\")\n",
    "print(df.describe(include=['object']))\n"
   ]
  },
  {
   "cell_type": "markdown",
   "metadata": {},
   "source": [
    "### 8_Descriptive Statistics for All Columns"
   ]
  },
  {
   "cell_type": "code",
   "execution_count": 8,
   "metadata": {},
   "outputs": [
    {
     "name": "stdout",
     "output_type": "stream",
     "text": [
      "Descriptive statistics for all columns:\n",
      "          Name        Age     Rating\n",
      "count       12  12.000000  12.000000\n",
      "unique      12        NaN        NaN\n",
      "top     Nadeem        NaN        NaN\n",
      "freq         1        NaN        NaN\n",
      "mean       NaN  31.833333   3.743333\n",
      "std        NaN   9.232682   0.661628\n",
      "min        NaN  23.000000   2.560000\n",
      "25%        NaN  25.000000   3.230000\n",
      "50%        NaN  29.500000   3.790000\n",
      "75%        NaN  35.500000   4.132500\n",
      "max        NaN  51.000000   4.800000\n"
     ]
    }
   ],
   "source": [
    "import pandas as pd\n",
    "import numpy as np\n",
    "\n",
    "# ### describe() for All Columns\n",
    "# This snippet produces comprehensive summary statistics for all columns in the DataFrame.\n",
    "# It includes details for both numeric and non-numeric columns such as count, unique, mean, etc.\n",
    "d = {\n",
    "    'Name': pd.Series(['Nadeem', 'Ali', 'Umar', 'Niaz', 'Tahir', 'Azam', 'Asif', 'Nabeel', 'Kazim', 'atif', 'Akif', 'Aslam']),\n",
    "    'Age': pd.Series([25, 26, 25, 23, 30, 29, 23, 34, 40, 30, 51, 46]),\n",
    "    'Rating': pd.Series([4.23, 3.24, 3.98, 2.56, 3.20, 4.6, 3.8, 3.78, 2.98, 4.80, 4.10, 3.65])\n",
    "}\n",
    "df = pd.DataFrame(d)\n",
    "print(\"Descriptive statistics for all columns:\")\n",
    "print(df.describe(include='all'))\n"
   ]
  }
 ],
 "metadata": {
  "kernelspec": {
   "display_name": "base",
   "language": "python",
   "name": "python3"
  },
  "language_info": {
   "codemirror_mode": {
    "name": "ipython",
    "version": 3
   },
   "file_extension": ".py",
   "mimetype": "text/x-python",
   "name": "python",
   "nbconvert_exporter": "python",
   "pygments_lexer": "ipython3",
   "version": "3.12.7"
  }
 },
 "nbformat": 4,
 "nbformat_minor": 2
}
