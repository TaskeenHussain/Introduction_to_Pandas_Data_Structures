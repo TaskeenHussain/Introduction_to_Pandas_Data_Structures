{
 "cells": [
  {
   "cell_type": "markdown",
   "metadata": {},
   "source": [
    "### Reindexing and Iteration"
   ]
  },
  {
   "cell_type": "markdown",
   "metadata": {},
   "source": [
    "### 1: Reindexing a DataFrame\n",
    "#### This code creates a DataFrame and reindexes it to include only specific rows (0, 2, 5) and columns (A, C, B). Missing columns (like B) are filled with NaN.\n"
   ]
  },
  {
   "cell_type": "code",
   "execution_count": null,
   "metadata": {},
   "outputs": [],
   "source": []
  },
  {
   "cell_type": "code",
   "execution_count": 1,
   "metadata": {},
   "outputs": [
    {
     "name": "stdout",
     "output_type": "stream",
     "text": [
      "           A     C   B\n",
      "0 2016-01-01  High NaN\n",
      "2 2016-01-03  High NaN\n",
      "5 2016-01-06   Low NaN\n"
     ]
    }
   ],
   "source": [
    "import pandas as pd\n",
    "import numpy as np\n",
    "\n",
    "N = 20\n",
    "\n",
    "df = pd.DataFrame({\n",
    "   'A': pd.date_range(start='2016-01-01', periods=N, freq='D'),\n",
    "   'x': np.linspace(0, stop=N-1, num=N),\n",
    "   'y': np.random.rand(N),\n",
    "   'C': np.random.choice(['Low', 'Medium', 'High'], N).tolist(),\n",
    "   'D': np.random.normal(100, 10, size=(N)).tolist()\n",
    "})\n",
    "\n",
    "df_reindexed = df.reindex(index=[0, 2, 5], columns=['A', 'C', 'B'])\n",
    "print(df_reindexed)"
   ]
  },
  {
   "cell_type": "markdown",
   "metadata": {},
   "source": [
    "### 2: Reindex to Align with Other Objects\n",
    "#### The reindex_like method aligns df1 with the index and columns of df2. Rows in df1 that don't exist in df2 are dropped or filled with NaN."
   ]
  },
  {
   "cell_type": "code",
   "execution_count": 2,
   "metadata": {},
   "outputs": [
    {
     "name": "stdout",
     "output_type": "stream",
     "text": [
      "       col1      col2      col3\n",
      "0  0.782214 -0.135319  0.182093\n",
      "1  1.345943 -0.181890 -0.095614\n",
      "2  0.504307 -0.001843  0.048715\n",
      "3  0.751621 -0.697434 -0.282950\n",
      "4 -0.612639  0.089298  0.574106\n",
      "5 -0.733311  1.196204 -0.834162\n",
      "6  0.112335  0.008859  0.175290\n"
     ]
    }
   ],
   "source": [
    "import pandas as pd\n",
    "import numpy as np\n",
    "\n",
    "df1 = pd.DataFrame(np.random.randn(10, 3), columns=['col1', 'col2', 'col3'])\n",
    "df2 = pd.DataFrame(np.random.randn(7, 3), columns=['col1', 'col2', 'col3'])\n",
    "\n",
    "df1 = df1.reindex_like(df2)\n",
    "print(df1)"
   ]
  },
  {
   "cell_type": "markdown",
   "metadata": {},
   "source": [
    "### 3: Filling while ReIndexing\n",
    "#### This code reindexes df2 to match df1, filling missing values with NaN. The method='ffill' argument fills missing values using the last valid observation."
   ]
  },
  {
   "cell_type": "code",
   "execution_count": 3,
   "metadata": {},
   "outputs": [
    {
     "name": "stdout",
     "output_type": "stream",
     "text": [
      "       col1      col2      col3\n",
      "0 -0.451607 -1.448622  0.297669\n",
      "1 -0.480563 -0.760197  0.363539\n",
      "2       NaN       NaN       NaN\n",
      "3       NaN       NaN       NaN\n",
      "4       NaN       NaN       NaN\n",
      "5       NaN       NaN       NaN\n",
      "Data Frame with Forward Fill:\n",
      "       col1      col2      col3\n",
      "0 -0.451607 -1.448622  0.297669\n",
      "1 -0.480563 -0.760197  0.363539\n",
      "2 -0.480563 -0.760197  0.363539\n",
      "3 -0.480563 -0.760197  0.363539\n",
      "4 -0.480563 -0.760197  0.363539\n",
      "5 -0.480563 -0.760197  0.363539\n"
     ]
    }
   ],
   "source": [
    "df1 = pd.DataFrame(np.random.randn(6, 3), columns=['col1', 'col2', 'col3'])\n",
    "df2 = pd.DataFrame(np.random.randn(2, 3), columns=['col1', 'col2', 'col3'])\n",
    "\n",
    "print(df2.reindex_like(df1))\n",
    "print(\"Data Frame with Forward Fill:\")\n",
    "print(df2.reindex_like(df1, method='ffill'))"
   ]
  },
  {
   "cell_type": "markdown",
   "metadata": {},
   "source": [
    "### 4: Limits on Filling while Reindexing\n",
    "#### This code limits the forward fill (ffill) to only one consecutive missing value. Additional missing values remain as NaN."
   ]
  },
  {
   "cell_type": "code",
   "execution_count": 4,
   "metadata": {},
   "outputs": [
    {
     "name": "stdout",
     "output_type": "stream",
     "text": [
      "       col1      col2      col3\n",
      "0  0.548612 -0.601636  0.355207\n",
      "1 -0.080276  0.944091 -1.262286\n",
      "2       NaN       NaN       NaN\n",
      "3       NaN       NaN       NaN\n",
      "4       NaN       NaN       NaN\n",
      "5       NaN       NaN       NaN\n",
      "Data Frame with Forward Fill limiting to 1:\n",
      "       col1      col2      col3\n",
      "0  0.548612 -0.601636  0.355207\n",
      "1 -0.080276  0.944091 -1.262286\n",
      "2 -0.080276  0.944091 -1.262286\n",
      "3       NaN       NaN       NaN\n",
      "4       NaN       NaN       NaN\n",
      "5       NaN       NaN       NaN\n"
     ]
    }
   ],
   "source": [
    "df1 = pd.DataFrame(np.random.randn(6, 3), columns=['col1', 'col2', 'col3'])\n",
    "df2 = pd.DataFrame(np.random.randn(2, 3), columns=['col1', 'col2', 'col3'])\n",
    "\n",
    "print(df2.reindex_like(df1))\n",
    "print(\"Data Frame with Forward Fill limiting to 1:\")\n",
    "print(df2.reindex_like(df1, method='ffill', limit=1))"
   ]
  },
  {
   "cell_type": "markdown",
   "metadata": {},
   "source": [
    "### 5: Renaming Columns and Rows\n",
    "#### This code renames specific columns (col1 to c1, col2 to c2) and rows (0 to apple, 1 to banana, etc.) in the DataFrame."
   ]
  },
  {
   "cell_type": "code",
   "execution_count": 5,
   "metadata": {},
   "outputs": [
    {
     "name": "stdout",
     "output_type": "stream",
     "text": [
      "       col1      col2      col3\n",
      "0  0.391220 -0.998930 -1.385806\n",
      "1  0.532465  1.544081 -0.386162\n",
      "2  0.621266  0.040398  0.239738\n",
      "3  0.909737  0.373803  1.372684\n",
      "4 -0.448955  0.441225 -2.649434\n",
      "5  0.914784 -2.399003 -0.565606\n",
      "After renaming the rows and columns:\n",
      "              c1        c2      col3\n",
      "apple   0.391220 -0.998930 -1.385806\n",
      "banana  0.532465  1.544081 -0.386162\n",
      "durian  0.621266  0.040398  0.239738\n",
      "3       0.909737  0.373803  1.372684\n",
      "4      -0.448955  0.441225 -2.649434\n",
      "5       0.914784 -2.399003 -0.565606\n"
     ]
    }
   ],
   "source": [
    "df1 = pd.DataFrame(np.random.randn(6, 3), columns=['col1', 'col2', 'col3'])\n",
    "print(df1)\n",
    "\n",
    "print(\"After renaming the rows and columns:\")\n",
    "print(df1.rename(columns={'col1': 'c1', 'col2': 'c2'},\n",
    "                 index={0: 'apple', 1: 'banana', 2: 'durian'}))"
   ]
  },
  {
   "cell_type": "markdown",
   "metadata": {},
   "source": [
    "###  6: Iterating Over DataFrame Columns\n",
    "#### This code iterates over the columns of the DataFrame and prints each column name."
   ]
  },
  {
   "cell_type": "code",
   "execution_count": 6,
   "metadata": {},
   "outputs": [
    {
     "name": "stdout",
     "output_type": "stream",
     "text": [
      "A\n",
      "x\n",
      "y\n",
      "C\n",
      "D\n"
     ]
    }
   ],
   "source": [
    "N = 20\n",
    "df = pd.DataFrame({\n",
    "   'A': pd.date_range(start='2016-01-01', periods=N, freq='D'),\n",
    "   'x': np.linspace(0, stop=N-1, num=N),\n",
    "   'y': np.random.rand(N),\n",
    "   'C': np.random.choice(['Low', 'Medium', 'High'], N).tolist(),\n",
    "   'D': np.random.normal(100, 10, size=(N)).tolist()\n",
    "})\n",
    "\n",
    "for col in df:\n",
    "   print(col)"
   ]
  },
  {
   "cell_type": "markdown",
   "metadata": {},
   "source": [
    "###  7: Iterating Over DataFrame Columns with iteritems()\n",
    "##### The iteritems() method iterates over columns, returning the column name (key) and the column data (value) as a Series. The items() method iterates over the columns of the DataFrame, returning the column name (key) and the column data (value) as a Series. This is the updated replacement for the deprecated iteritems() method."
   ]
  },
  {
   "cell_type": "code",
   "execution_count": 15,
   "metadata": {},
   "outputs": [
    {
     "name": "stdout",
     "output_type": "stream",
     "text": [
      "col1 0    0.362136\n",
      "1    0.334225\n",
      "2    0.331824\n",
      "3   -0.863047\n",
      "Name: col1, dtype: float64\n",
      "col2 0   -0.081730\n",
      "1   -1.362476\n",
      "2    0.629966\n",
      "3    0.112758\n",
      "Name: col2, dtype: float64\n",
      "col3 0    1.510487\n",
      "1    1.592317\n",
      "2    0.066958\n",
      "3   -2.066370\n",
      "Name: col3, dtype: float64\n"
     ]
    }
   ],
   "source": [
    "import pandas as pd\n",
    "import numpy as np\n",
    "\n",
    "df = pd.DataFrame(np.random.randn(4, 3), columns=['col1', 'col2', 'col3'])\n",
    "for key, value in df.items():\n",
    "   print(key, value)"
   ]
  },
  {
   "cell_type": "markdown",
   "metadata": {},
   "source": [
    "### 8: Iterating Over DataFrame Rows with iterrows()\n",
    "#### The iterrows() method iterates over rows, returning the row index and the row data as a Series."
   ]
  },
  {
   "cell_type": "code",
   "execution_count": 9,
   "metadata": {},
   "outputs": [
    {
     "name": "stdout",
     "output_type": "stream",
     "text": [
      "0 col1   -1.944606\n",
      "col2    0.737124\n",
      "col3    2.036539\n",
      "Name: 0, dtype: float64\n",
      "1 col1   -0.560856\n",
      "col2    0.331619\n",
      "col3   -0.769374\n",
      "Name: 1, dtype: float64\n",
      "2 col1   -0.532753\n",
      "col2    0.275520\n",
      "col3   -1.102272\n",
      "Name: 2, dtype: float64\n",
      "3 col1   -1.499655\n",
      "col2   -1.938137\n",
      "col3   -0.856091\n",
      "Name: 3, dtype: float64\n"
     ]
    }
   ],
   "source": [
    "df = pd.DataFrame(np.random.randn(4, 3), columns=['col1', 'col2', 'col3'])\n",
    "for row_index, row in df.iterrows():\n",
    "   print(row_index, row)"
   ]
  },
  {
   "cell_type": "markdown",
   "metadata": {},
   "source": [
    "###  9: Iterating Over DataFrame Rows with itertuples()\n",
    "#### The itertuples() method iterates over rows, returning each row as a named tuple. This is faster and more memory-efficient than iterrows()."
   ]
  },
  {
   "cell_type": "code",
   "execution_count": 10,
   "metadata": {},
   "outputs": [
    {
     "name": "stdout",
     "output_type": "stream",
     "text": [
      "Pandas(Index=0, col1=0.8261887695976218, col2=0.9303177528653156, col3=0.10186352610818401)\n",
      "Pandas(Index=1, col1=0.4225426788912268, col2=0.16867164231862153, col3=-0.2543201270325081)\n",
      "Pandas(Index=2, col1=0.3869847530617681, col2=0.021062862361256148, col3=0.5448058466607731)\n",
      "Pandas(Index=3, col1=0.07810378438912467, col2=0.8857889645730975, col3=0.04378990086095557)\n"
     ]
    }
   ],
   "source": [
    "df = pd.DataFrame(np.random.randn(4, 3), columns=['col1', 'col2', 'col3'])\n",
    "for row in df.itertuples():\n",
    "    print(row)"
   ]
  },
  {
   "cell_type": "markdown",
   "metadata": {},
   "source": [
    "### Code 10: Modifying Rows While Iterating\n",
    "#### This code attempts to modify rows while iterating, but changes are not reflected in the original DataFrame. Modifications need to be applied directly to the DataFrame.\n",
    "\n",
    "#### Each code demonstrates different operations on DataFrames, such as reindexing, renaming, and iterating over rows or columns.\n",
    "\n"
   ]
  },
  {
   "cell_type": "code",
   "execution_count": 12,
   "metadata": {},
   "outputs": [
    {
     "name": "stdout",
     "output_type": "stream",
     "text": [
      "       col1      col2      col3\n",
      "0 -1.283132 -2.240721 -1.150408\n",
      "1 -0.695113  0.313063  0.798360\n",
      "2  0.915406  0.973817 -1.481904\n",
      "3 -1.486234 -1.846104 -0.364376\n"
     ]
    }
   ],
   "source": [
    "df = pd.DataFrame(np.random.randn(4, 3), columns=['col1', 'col2', 'col3'])\n",
    "\n",
    "for index, row in df.iterrows():\n",
    "   row['a'] = 10\n",
    "print(df)"
   ]
  }
 ],
 "metadata": {
  "kernelspec": {
   "display_name": "base",
   "language": "python",
   "name": "python3"
  },
  "language_info": {
   "codemirror_mode": {
    "name": "ipython",
    "version": 3
   },
   "file_extension": ".py",
   "mimetype": "text/x-python",
   "name": "python",
   "nbconvert_exporter": "python",
   "pygments_lexer": "ipython3",
   "version": "3.12.7"
  }
 },
 "nbformat": 4,
 "nbformat_minor": 2
}
