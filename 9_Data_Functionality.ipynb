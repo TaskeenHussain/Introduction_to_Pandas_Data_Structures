{
 "cells": [
  {
   "cell_type": "markdown",
   "metadata": {},
   "source": []
  },
  {
   "cell_type": "code",
   "execution_count": 1,
   "metadata": {},
   "outputs": [
    {
     "name": "stdout",
     "output_type": "stream",
     "text": [
      "Range of Dates:\n",
      "DatetimeIndex(['2011-01-01', '2011-01-02', '2011-01-03', '2011-01-04',\n",
      "               '2011-01-05'],\n",
      "              dtype='datetime64[ns]', freq='D')\n"
     ]
    }
   ],
   "source": [
    "### Create a Range of Dates\n",
    "### Use pd.date_range() to generate a sequence of dates.\n",
    "\n",
    "import pandas as pd\n",
    "\n",
    "# Create a range of dates starting from '1/1/2011' with 5 periods (days).\n",
    "dates = pd.date_range('1/1/2011', periods=5)\n",
    "print(\"Range of Dates:\")\n",
    "print(dates)\n",
    "\n",
    "\n",
    "### pd.date_range(start_date, periods=n): Generates n consecutive dates starting from the given date."
   ]
  },
  {
   "cell_type": "code",
   "execution_count": 2,
   "metadata": {},
   "outputs": [
    {
     "name": "stdout",
     "output_type": "stream",
     "text": [
      "\n",
      "Dates with Monthly Frequency:\n",
      "DatetimeIndex(['2011-01-31', '2011-02-28', '2011-03-31', '2011-04-30',\n",
      "               '2011-05-31'],\n",
      "              dtype='datetime64[ns]', freq='ME')\n"
     ]
    },
    {
     "name": "stderr",
     "output_type": "stream",
     "text": [
      "C:\\Users\\ALR\\AppData\\Local\\Temp\\ipykernel_18504\\1221882975.py:6: FutureWarning: 'M' is deprecated and will be removed in a future version, please use 'ME' instead.\n",
      "  monthly_dates = pd.date_range('1/1/2011', periods=5, freq='M')\n"
     ]
    }
   ],
   "source": [
    "### Change the Date Frequency\n",
    "### Change the frequency of dates in a date range using the freq parameter.\n",
    "import pandas as pd\n",
    "\n",
    "# Create a range of dates with monthly frequency.\n",
    "monthly_dates = pd.date_range('1/1/2011', periods=5, freq='M')\n",
    "print(\"\\nDates with Monthly Frequency:\")\n",
    "print(monthly_dates)\n",
    "#### freq='M': Generates the last day of each month."
   ]
  },
  {
   "cell_type": "code",
   "execution_count": 3,
   "metadata": {},
   "outputs": [
    {
     "name": "stdout",
     "output_type": "stream",
     "text": [
      "\n",
      "Business Dates:\n",
      "DatetimeIndex(['2011-01-03', '2011-01-04', '2011-01-05', '2011-01-06',\n",
      "               '2011-01-07'],\n",
      "              dtype='datetime64[ns]', freq='B')\n"
     ]
    }
   ],
   "source": [
    "### Using bdate_range()\n",
    "#### Generate a range of business dates (weekdays only).\n",
    "\n",
    "import pandas as pd\n",
    "\n",
    "# Generate a range of 5 business days starting from '1/1/2011'.\n",
    "business_dates = pd.bdate_range('1/1/2011', periods=5)\n",
    "print(\"\\nBusiness Dates:\")\n",
    "print(business_dates)\n",
    "\n",
    "### pd.bdate_range(): Excludes weekends and holidays (if configured)."
   ]
  },
  {
   "cell_type": "code",
   "execution_count": 4,
   "metadata": {},
   "outputs": [
    {
     "name": "stdout",
     "output_type": "stream",
     "text": [
      "\n",
      "Timedelta from String:\n",
      "2 days 02:15:30\n"
     ]
    }
   ],
   "source": [
    "###  Using Strings with Timedelta\n",
    "### Create a Timedelta object from a string.\n",
    "\n",
    "import pandas as pd\n",
    "\n",
    "# Create a Timedelta object representing 2 days, 2 hours, 15 minutes, and 30 seconds.\n",
    "time_delta = pd.Timedelta('2 days 2 hours 15 minutes 30 seconds')\n",
    "print(\"\\nTimedelta from String:\")\n",
    "print(time_delta)\n",
    "\n",
    "### pd.Timedelta() parses a duration string into a Timedelta object."
   ]
  },
  {
   "cell_type": "code",
   "execution_count": 5,
   "metadata": {},
   "outputs": [
    {
     "name": "stdout",
     "output_type": "stream",
     "text": [
      "\n",
      "Timedelta from Integer (6 hours):\n",
      "0 days 06:00:00\n"
     ]
    }
   ],
   "source": [
    "###  Using Integers with Timedelta\n",
    "### Create a Timedelta object using an integer and a time unit.\n",
    "\n",
    "import pandas as pd\n",
    "\n",
    "# Create a Timedelta object for 6 hours.\n",
    "time_delta_hours = pd.Timedelta(6, unit='h')\n",
    "print(\"\\nTimedelta from Integer (6 hours):\")\n",
    "print(time_delta_hours)\n",
    "\n",
    "### unit='h': Specifies that the integer represents hours.\n"
   ]
  },
  {
   "cell_type": "code",
   "execution_count": 6,
   "metadata": {},
   "outputs": [
    {
     "name": "stdout",
     "output_type": "stream",
     "text": [
      "\n",
      "Timedelta (2 days):\n",
      "2 days 00:00:00\n"
     ]
    }
   ],
   "source": [
    "## Data Offsets with Timedelta\n",
    "## Specify fixed time offsets using Timedelta.\n",
    "import pandas as pd\n",
    "\n",
    "# Create a Timedelta object for 2 days.\n",
    "time_delta_days = pd.Timedelta(days=2)\n",
    "print(\"\\nTimedelta (2 days):\")\n",
    "print(time_delta_days)"
   ]
  },
  {
   "cell_type": "code",
   "execution_count": 7,
   "metadata": {},
   "outputs": [
    {
     "name": "stdout",
     "output_type": "stream",
     "text": [
      "\n",
      "Convert to Timedelta (2 days):\n",
      "2 days 00:00:00\n"
     ]
    }
   ],
   "source": [
    "### Convert to Timedelta (to_timedelta())\n",
    "### Convert a value to a Timedelta object.\n",
    "\n",
    "import pandas as pd\n",
    "\n",
    "# Convert 2 days to a Timedelta object.\n",
    "converted_timedelta = pd.to_timedelta(2, unit='d')\n",
    "print(\"\\nConvert to Timedelta (2 days):\")\n",
    "print(converted_timedelta)"
   ]
  },
  {
   "cell_type": "code",
   "execution_count": 8,
   "metadata": {},
   "outputs": [
    {
     "name": "stdout",
     "output_type": "stream",
     "text": [
      "\n",
      "DataFrame with Dates and Timedeltas:\n",
      "        Date Timedelta\n",
      "0 2012-01-01    0 days\n",
      "1 2012-01-02    1 days\n",
      "2 2012-01-03    2 days\n"
     ]
    }
   ],
   "source": [
    "### Using Timedelta in Operations\n",
    "### Combine dates and timedeltas in a DataFrame.\n",
    "import pandas as pd\n",
    "\n",
    "# Create a series of dates.\n",
    "dates = pd.Series(pd.date_range('2012-1-1', periods=3, freq='D'))\n",
    "\n",
    "# Create a series of timedeltas.\n",
    "timedeltas = pd.Series([pd.Timedelta(days=i) for i in range(3)])\n",
    "\n",
    "# Combine them in a DataFrame.\n",
    "df = pd.DataFrame({'Date': dates, 'Timedelta': timedeltas})\n",
    "\n",
    "print(\"\\nDataFrame with Dates and Timedeltas:\")\n",
    "print(df)"
   ]
  },
  {
   "cell_type": "code",
   "execution_count": 9,
   "metadata": {},
   "outputs": [
    {
     "name": "stdout",
     "output_type": "stream",
     "text": [
      "\n",
      "Addition of Dates and Timedeltas:\n",
      "        Date Timedelta   New_Date\n",
      "0 2012-01-01    0 days 2012-01-01\n",
      "1 2012-01-02    1 days 2012-01-03\n",
      "2 2012-01-03    2 days 2012-01-05\n"
     ]
    }
   ],
   "source": [
    "### Addition Operations\n",
    "### Add a Timedelta to a date.\n",
    "import pandas as pd\n",
    "\n",
    "# Create a series of dates.\n",
    "dates = pd.Series(pd.date_range('2012-1-1', periods=3, freq='D'))\n",
    "\n",
    "# Create a series of timedeltas.\n",
    "timedeltas = pd.Series([pd.Timedelta(days=i) for i in range(3)])\n",
    "\n",
    "# Add the Timedelta to the Date.\n",
    "df = pd.DataFrame({'Date': dates, 'Timedelta': timedeltas})\n",
    "df['New_Date'] = df['Date'] + df['Timedelta']\n",
    "\n",
    "print(\"\\nAddition of Dates and Timedeltas:\")\n",
    "print(df)\n",
    "\n",
    "### Adding a Timedelta to a Timestamp results in a new date.\n"
   ]
  },
  {
   "cell_type": "code",
   "execution_count": 10,
   "metadata": {},
   "outputs": [
    {
     "name": "stdout",
     "output_type": "stream",
     "text": [
      "\n",
      "Addition and Subtraction of Dates and Timedeltas:\n",
      "        Date Timedelta      Added Subtracted\n",
      "0 2012-01-01    0 days 2012-01-01 2012-01-01\n",
      "1 2012-01-02    1 days 2012-01-03 2012-01-02\n",
      "2 2012-01-03    2 days 2012-01-05 2012-01-03\n"
     ]
    }
   ],
   "source": [
    "### Subtraction Operations\n",
    "### Perform subtraction between dates and timedeltas.\n",
    "import pandas as pd\n",
    "\n",
    "# Create a series of dates.\n",
    "dates = pd.Series(pd.date_range('2012-1-1', periods=3, freq='D'))\n",
    "\n",
    "# Create a series of timedeltas.\n",
    "timedeltas = pd.Series([pd.Timedelta(days=i) for i in range(3)])\n",
    "\n",
    "# Add and subtract timedeltas from dates.\n",
    "df = pd.DataFrame({'Date': dates, 'Timedelta': timedeltas})\n",
    "df['Added'] = df['Date'] + df['Timedelta']\n",
    "df['Subtracted'] = df['Added'] - df['Timedelta']\n",
    "\n",
    "print(\"\\nAddition and Subtraction of Dates and Timedeltas:\")\n",
    "print(df)\n",
    "\n",
    "## Subtracting a Timedelta from a Timestamp returns the adjusted date.\n"
   ]
  }
 ],
 "metadata": {
  "kernelspec": {
   "display_name": "base",
   "language": "python",
   "name": "python3"
  },
  "language_info": {
   "codemirror_mode": {
    "name": "ipython",
    "version": 3
   },
   "file_extension": ".py",
   "mimetype": "text/x-python",
   "name": "python",
   "nbconvert_exporter": "python",
   "pygments_lexer": "ipython3",
   "version": "3.12.7"
  }
 },
 "nbformat": 4,
 "nbformat_minor": 2
}
