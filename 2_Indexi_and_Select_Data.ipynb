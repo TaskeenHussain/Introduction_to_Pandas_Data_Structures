{
 "cells": [
  {
   "cell_type": "markdown",
   "metadata": {},
   "source": []
  },
  {
   "cell_type": "code",
   "execution_count": 1,
   "metadata": {},
   "outputs": [
    {
     "name": "stdout",
     "output_type": "stream",
     "text": [
      "a    0.196259\n",
      "b    1.434991\n",
      "c   -0.004174\n",
      "d   -0.374509\n",
      "e    0.331503\n",
      "f    0.483656\n",
      "g    1.369615\n",
      "h   -0.321272\n",
      "Name: A, dtype: float64\n"
     ]
    }
   ],
   "source": [
    "### Select All Rows for a Specific Column\n",
    "# Import the pandas library and aliasing as pd\n",
    "import pandas as pd\n",
    "import numpy as np\n",
    "\n",
    "df = pd.DataFrame(np.random.randn(8, 4),\n",
    "                  index=['a', 'b', 'c', 'd', 'e', 'f', 'g', 'h'],\n",
    "                  columns=['A', 'B', 'C', 'D'])\n",
    "\n",
    "# Select all rows for a specific column\n",
    "print(df.loc[:, 'A'])"
   ]
  },
  {
   "cell_type": "code",
   "execution_count": null,
   "metadata": {},
   "outputs": [],
   "source": []
  },
  {
   "cell_type": "code",
   "execution_count": 2,
   "metadata": {},
   "outputs": [
    {
     "name": "stdout",
     "output_type": "stream",
     "text": [
      "          A         C\n",
      "a -0.181934  0.212624\n",
      "b  0.403990  1.217080\n",
      "c -0.750694 -0.424770\n",
      "d  0.436291 -0.744339\n",
      "e  0.204500  0.910286\n",
      "f  0.009917 -1.171323\n",
      "g  0.185161  0.592968\n",
      "h -1.363985 -0.091439\n"
     ]
    }
   ],
   "source": [
    "### Select All Rows for Multiple Columns\n",
    "# Import the pandas library and aliasing as pd\n",
    "import pandas as pd\n",
    "import numpy as np\n",
    "\n",
    "df = pd.DataFrame(np.random.randn(8, 4),\n",
    "                  index=['a', 'b', 'c', 'd', 'e', 'f', 'g', 'h'],\n",
    "                  columns=['A', 'B', 'C', 'D'])\n",
    "\n",
    "# Select all rows for multiple columns\n",
    "print(df.loc[:, ['A', 'C']])"
   ]
  },
  {
   "cell_type": "code",
   "execution_count": 3,
   "metadata": {},
   "outputs": [
    {
     "name": "stdout",
     "output_type": "stream",
     "text": [
      "          A         C\n",
      "a  1.051824  0.883908\n",
      "b -0.174819 -0.598584\n",
      "f  0.022879  1.079548\n",
      "h  0.025114  1.253147\n"
     ]
    }
   ],
   "source": [
    "### Select Specific Rows for Multiple Columns\n",
    "# Import the pandas library and aliasing as pd\n",
    "import pandas as pd\n",
    "import numpy as np\n",
    "\n",
    "df = pd.DataFrame(np.random.randn(8, 4),\n",
    "                  index=['a', 'b', 'c', 'd', 'e', 'f', 'g', 'h'],\n",
    "                  columns=['A', 'B', 'C', 'D'])\n",
    "\n",
    "# Select specific rows for multiple columns\n",
    "print(df.loc[['a', 'b', 'f', 'h'], ['A', 'C']])"
   ]
  },
  {
   "cell_type": "code",
   "execution_count": 4,
   "metadata": {},
   "outputs": [
    {
     "name": "stdout",
     "output_type": "stream",
     "text": [
      "          A         B         C         D\n",
      "a  0.506918  2.362317 -0.654453  0.574913\n",
      "b  0.827210  0.543290  0.135855 -0.677111\n",
      "c -0.222821 -0.181891 -0.176565  2.019095\n",
      "d -0.780202 -0.117181  0.865895 -0.901596\n",
      "e -1.013491 -0.377970  0.760280 -0.740760\n",
      "f -1.733604  0.530876 -0.546408  1.147406\n",
      "g  0.389700 -0.360376 -1.599787  0.085662\n",
      "h  1.289178 -0.857156  0.504773 -1.087564\n"
     ]
    }
   ],
   "source": [
    "### Select a Range of Rows for All Columns\n",
    "# # Import the pandas library and aliasing as pd\n",
    "import pandas as pd\n",
    "import numpy as np\n",
    "\n",
    "df = pd.DataFrame(np.random.randn(8, 4),\n",
    "                  index=['a', 'b', 'c', 'd', 'e', 'f', 'g', 'h'],\n",
    "                  columns=['A', 'B', 'C', 'D'])\n",
    "\n",
    "# Select range of rows for all columns\n",
    "print(df.loc['a':'h'])\n"
   ]
  },
  {
   "cell_type": "code",
   "execution_count": 5,
   "metadata": {},
   "outputs": [
    {
     "name": "stdout",
     "output_type": "stream",
     "text": [
      "A    False\n",
      "B    False\n",
      "C     True\n",
      "D    False\n",
      "Name: a, dtype: bool\n"
     ]
    }
   ],
   "source": [
    "### Use Boolean Array for Selection\n",
    "# Import the pandas library and aliasing as pd\n",
    "import pandas as pd\n",
    "import numpy as np\n",
    "\n",
    "df = pd.DataFrame(np.random.randn(8, 4),\n",
    "                  index=['a', 'b', 'c', 'd', 'e', 'f', 'g', 'h'],\n",
    "                  columns=['A', 'B', 'C', 'D'])\n",
    "\n",
    "# Select rows where a specific condition is met\n",
    "print(df.loc['a'] > 0)"
   ]
  },
  {
   "cell_type": "code",
   "execution_count": 7,
   "metadata": {},
   "outputs": [
    {
     "name": "stdout",
     "output_type": "stream",
     "text": [
      "          A         B         C         D\n",
      "0  0.214596 -0.523092 -0.543191 -1.022958\n",
      "1 -0.091368 -0.016128  0.713424 -1.713760\n",
      "2  1.103907 -0.368438 -0.169606 -0.610596\n",
      "3  1.149771 -0.190553  0.567994 -1.037220\n"
     ]
    }
   ],
   "source": [
    "### Select First Four Rows\n",
    "# Import the pandas library and aliasing as pd\n",
    "import pandas as pd\n",
    "import numpy as np\n",
    "\n",
    "df = pd.DataFrame(np.random.randn(8, 4), columns=['A', 'B', 'C', 'D'])\n",
    "\n",
    "# Select first four rows\n",
    "print(df.iloc[:4])"
   ]
  },
  {
   "cell_type": "code",
   "execution_count": 8,
   "metadata": {},
   "outputs": [
    {
     "name": "stdout",
     "output_type": "stream",
     "text": [
      "          A         B         C         D\n",
      "0  0.431874 -1.425459 -0.917371  0.205127\n",
      "1  1.167831  0.074489 -0.965210  0.019236\n",
      "2 -0.257922  0.089826 -0.782447  0.369651\n",
      "3  0.091757  0.541240 -0.337417 -0.755581\n",
      "          C         D\n",
      "1 -0.965210  0.019236\n",
      "2 -0.782447  0.369651\n",
      "3 -0.337417 -0.755581\n",
      "4  1.614886 -1.186342\n"
     ]
    }
   ],
   "source": [
    "### Perform Integer Slicing\n",
    "import pandas as pd\n",
    "import numpy as np\n",
    "\n",
    "df = pd.DataFrame(np.random.randn(8, 4), columns=['A', 'B', 'C', 'D'])\n",
    "\n",
    "# Perform integer slicing\n",
    "print(df.iloc[:4])  # First 4 rows\n",
    "print(df.iloc[1:5, 2:4])  # Specific rows and columns"
   ]
  },
  {
   "cell_type": "code",
   "execution_count": 9,
   "metadata": {},
   "outputs": [
    {
     "name": "stdout",
     "output_type": "stream",
     "text": [
      "          B         D\n",
      "1 -0.823307  0.865853\n",
      "3  0.953122  0.201618\n",
      "5 -0.003606  0.923255\n",
      "          A         B         C         D\n",
      "1 -0.206535 -0.823307  1.315921  0.865853\n",
      "2 -0.866460  0.579018  1.332218  0.249021\n",
      "          B         C\n",
      "0  2.252716 -0.663053\n",
      "1 -0.823307  1.315921\n",
      "2  0.579018  1.332218\n",
      "3  0.953122 -1.853312\n",
      "4  1.365082  0.757751\n",
      "5 -0.003606 -0.385228\n",
      "6 -0.589695 -1.212084\n",
      "7  0.687448  0.743236\n"
     ]
    }
   ],
   "source": [
    "### Slice Through List of Values\n",
    "import pandas as pd\n",
    "import numpy as np\n",
    "\n",
    "df = pd.DataFrame(np.random.randn(8, 4), columns=['A', 'B', 'C', 'D'])\n",
    "\n",
    "# Slice through specific rows and columns\n",
    "print(df.iloc[[1, 3, 5], [1, 3]])  # Specific rows and columns\n",
    "print(df.iloc[1:3, :])  # Range of rows for all columns\n",
    "print(df.iloc[:, 1:3])  # All rows for a range of columns"
   ]
  },
  {
   "cell_type": "code",
   "execution_count": null,
   "metadata": {},
   "outputs": [
    {
     "name": "stdout",
     "output_type": "stream",
     "text": [
      "0    0.682317\n",
      "1   -0.128628\n",
      "2   -1.055731\n",
      "3    1.738396\n",
      "4   -0.477582\n",
      "5   -0.134324\n",
      "6   -1.431104\n",
      "7    0.513190\n",
      "Name: A, dtype: float64\n"
     ]
    }
   ],
   "source": [
    "### Use of Notations\n",
    "### Select a Single Column\n",
    "import pandas as pd\n",
    "import numpy as np\n",
    "\n",
    "df = pd.DataFrame(np.random.randn(8, 4), columns=['A', 'B', 'C', 'D'])\n",
    "print(df['A'])  # Access column 'A'"
   ]
  },
  {
   "cell_type": "code",
   "execution_count": 11,
   "metadata": {},
   "outputs": [
    {
     "name": "stdout",
     "output_type": "stream",
     "text": [
      "          A         B\n",
      "0 -0.415283 -0.967988\n",
      "1  0.362871  0.725250\n",
      "2 -0.805102  0.397980\n",
      "3 -0.092607  0.013380\n",
      "4  0.191090 -0.140240\n",
      "5 -0.434819 -0.642901\n",
      "6 -0.345689 -0.102643\n",
      "7 -0.722529  1.211096\n"
     ]
    }
   ],
   "source": [
    "### Select Multiple Columns\n",
    "import pandas as pd\n",
    "import numpy as np\n",
    "\n",
    "df = pd.DataFrame(np.random.randn(8, 4), columns=['A', 'B', 'C', 'D'])\n",
    "print(df[['A', 'B']])  # Access columns 'A' and 'B'"
   ]
  },
  {
   "cell_type": "code",
   "execution_count": 12,
   "metadata": {},
   "outputs": [
    {
     "name": "stdout",
     "output_type": "stream",
     "text": [
      "Empty DataFrame\n",
      "Columns: [A, B, C, D]\n",
      "Index: []\n"
     ]
    }
   ],
   "source": [
    "### Select Rows Using Range\n",
    "import pandas as pd\n",
    "import numpy as np\n",
    "\n",
    "df = pd.DataFrame(np.random.randn(8, 4), columns=['A', 'B', 'C', 'D'])\n",
    "print(df[2:2])  # This will return an empty DataFrame because the range is invalid"
   ]
  },
  {
   "cell_type": "code",
   "execution_count": 13,
   "metadata": {},
   "outputs": [
    {
     "name": "stdout",
     "output_type": "stream",
     "text": [
      "0   -1.214911\n",
      "1   -1.695665\n",
      "2   -0.331709\n",
      "3   -1.946075\n",
      "4    0.179899\n",
      "5   -0.382293\n",
      "6    1.526396\n",
      "7    0.083577\n",
      "Name: A, dtype: float64\n"
     ]
    }
   ],
   "source": [
    "###  Attribute Access\n",
    "import pandas as pd\n",
    "import numpy as np\n",
    "\n",
    "df = pd.DataFrame(np.random.randn(8, 4), columns=['A', 'B', 'C', 'D'])\n",
    "\n",
    "# Attribute-style access for column 'A'\n",
    "print(df.A)"
   ]
  },
  {
   "cell_type": "code",
   "execution_count": null,
   "metadata": {},
   "outputs": [],
   "source": []
  }
 ],
 "metadata": {
  "kernelspec": {
   "display_name": "base",
   "language": "python",
   "name": "python3"
  },
  "language_info": {
   "codemirror_mode": {
    "name": "ipython",
    "version": 3
   },
   "file_extension": ".py",
   "mimetype": "text/x-python",
   "name": "python",
   "nbconvert_exporter": "python",
   "pygments_lexer": "ipython3",
   "version": "3.12.7"
  }
 },
 "nbformat": 4,
 "nbformat_minor": 2
}
