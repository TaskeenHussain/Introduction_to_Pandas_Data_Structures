{
 "cells": [
  {
   "cell_type": "markdown",
   "metadata": {},
   "source": []
  },
  {
   "cell_type": "markdown",
   "metadata": {},
   "source": [
    "Create DataFrames: Two DataFrames, left and right, are created with some common and differing columns.\n",
    "Merge on a Key: Merge two DataFrames based on the 'id' column using the merge() function."
   ]
  },
  {
   "cell_type": "code",
   "execution_count": 1,
   "metadata": {},
   "outputs": [
    {
     "name": "stdout",
     "output_type": "stream",
     "text": [
      "### Left DataFrame ###\n",
      "   id    Name subject_id\n",
      "0   1    Alex       sub1\n",
      "1   2     Amy       sub2\n",
      "2   3   Allen       sub4\n",
      "3   4   Alice       sub6\n",
      "4   5  Ayoung       sub5\n",
      "\n",
      "### Right DataFrame ###\n",
      "   id   Name subject_id\n",
      "0   1  Billy       sub2\n",
      "1   2  Brian       sub4\n",
      "2   3   Bran       sub3\n",
      "3   4  Bryce       sub6\n",
      "4   5  Betty       sub5\n",
      "\n",
      "### Merge Two DataFrames on 'id' ###\n",
      "   id  Name_x subject_id_x Name_y subject_id_y\n",
      "0   1    Alex         sub1  Billy         sub2\n",
      "1   2     Amy         sub2  Brian         sub4\n",
      "2   3   Allen         sub4   Bran         sub3\n",
      "3   4   Alice         sub6  Bryce         sub6\n",
      "4   5  Ayoung         sub5  Betty         sub5\n"
     ]
    }
   ],
   "source": [
    "# Import the Pandas Library\n",
    "import pandas as pd\n",
    "\n",
    "# Create DataFrames for Left and Right Data\n",
    "left = pd.DataFrame({\n",
    "   'id': [1, 2, 3, 4, 5],\n",
    "   'Name': ['Alex', 'Amy', 'Allen', 'Alice', 'Ayoung'],\n",
    "   'subject_id': ['sub1', 'sub2', 'sub4', 'sub6', 'sub5']})\n",
    "right = pd.DataFrame({\n",
    "   'id': [1, 2, 3, 4, 5],\n",
    "   'Name': ['Billy', 'Brian', 'Bran', 'Bryce', 'Betty'],\n",
    "   'subject_id': ['sub2', 'sub4', 'sub3', 'sub6', 'sub5']})\n",
    "\n",
    "# Display the Left and Right DataFrames\n",
    "print(\"### Left DataFrame ###\")\n",
    "print(left)\n",
    "print(\"\\n### Right DataFrame ###\")\n",
    "print(right)\n",
    "\n",
    "# Merge Two DataFrames on a Key\n",
    "print(\"\\n### Merge Two DataFrames on 'id' ###\")\n",
    "merged = pd.merge(left, right, on='id')\n",
    "print(merged)\n"
   ]
  },
  {
   "cell_type": "markdown",
   "metadata": {},
   "source": [
    "Merge on Multiple Keys: Merges on both id and subject_id columns for a more complex join."
   ]
  },
  {
   "cell_type": "code",
   "execution_count": 2,
   "metadata": {},
   "outputs": [
    {
     "name": "stdout",
     "output_type": "stream",
     "text": [
      "\n",
      "### Merge on Multiple Keys 'id' and 'subject_id' ###\n",
      "   id  Name_x subject_id Name_y\n",
      "0   4   Alice       sub6  Bryce\n",
      "1   5  Ayoung       sub5  Betty\n"
     ]
    }
   ],
   "source": [
    "# Merge Two DataFrames on Multiple Keys\n",
    "print(\"\\n### Merge on Multiple Keys 'id' and 'subject_id' ###\")\n",
    "merged_multiple_keys = pd.merge(left, right, on=['id', 'subject_id'])\n",
    "print(merged_multiple_keys)"
   ]
  },
  {
   "cell_type": "markdown",
   "metadata": {},
   "source": [
    "Left Join: Keeps all rows from the left DataFrame (left), and matches with the right DataFrame where possible."
   ]
  },
  {
   "cell_type": "code",
   "execution_count": 3,
   "metadata": {},
   "outputs": [
    {
     "name": "stdout",
     "output_type": "stream",
     "text": [
      "\n",
      "### Left Join (using 'left' DataFrame as the base) ###\n",
      "   id_x  Name_x subject_id  id_y Name_y\n",
      "0     1    Alex       sub1   NaN    NaN\n",
      "1     2     Amy       sub2   1.0  Billy\n",
      "2     3   Allen       sub4   2.0  Brian\n",
      "3     4   Alice       sub6   4.0  Bryce\n",
      "4     5  Ayoung       sub5   5.0  Betty\n"
     ]
    }
   ],
   "source": [
    "# Left Join\n",
    "print(\"\\n### Left Join (using 'left' DataFrame as the base) ###\")\n",
    "left_join = pd.merge(left, right, on='subject_id', how='left')\n",
    "print(left_join)"
   ]
  },
  {
   "cell_type": "markdown",
   "metadata": {},
   "source": [
    "Right Join: Keeps all rows from the right DataFrame (right), and matches with the left DataFrame where possible."
   ]
  },
  {
   "cell_type": "code",
   "execution_count": null,
   "metadata": {},
   "outputs": [
    {
     "name": "stdout",
     "output_type": "stream",
     "text": [
      "\n",
      "### Right Join (using 'right' DataFrame as the base) ###\n",
      "   id_x  Name_x subject_id  id_y Name_y\n",
      "0   2.0     Amy       sub2     1  Billy\n",
      "1   3.0   Allen       sub4     2  Brian\n",
      "2   NaN     NaN       sub3     3   Bran\n",
      "3   4.0   Alice       sub6     4  Bryce\n",
      "4   5.0  Ayoung       sub5     5  Betty\n"
     ]
    }
   ],
   "source": [
    "# Right Join\n",
    "print(\"\\n### Right Join (using 'right' DataFrame as the base) ###\")\n",
    "right_join = pd.merge(left, right, on='subject_id', how='right')\n",
    "print(right_join)"
   ]
  },
  {
   "cell_type": "markdown",
   "metadata": {},
   "source": [
    "Outer Join: Combines rows from both DataFrames, keeping all records from both sides and filling missing values with NaN."
   ]
  },
  {
   "cell_type": "code",
   "execution_count": 5,
   "metadata": {},
   "outputs": [
    {
     "name": "stdout",
     "output_type": "stream",
     "text": [
      "\n",
      "### Outer Join (keeps all rows from both DataFrames) ###\n",
      "   id_x  Name_x subject_id  id_y Name_y\n",
      "0   1.0    Alex       sub1   NaN    NaN\n",
      "1   2.0     Amy       sub2   1.0  Billy\n",
      "2   NaN     NaN       sub3   3.0   Bran\n",
      "3   3.0   Allen       sub4   2.0  Brian\n",
      "4   5.0  Ayoung       sub5   5.0  Betty\n",
      "5   4.0   Alice       sub6   4.0  Bryce\n"
     ]
    }
   ],
   "source": [
    "# Outer Join\n",
    "print(\"\\n### Outer Join (keeps all rows from both DataFrames) ###\")\n",
    "outer_join = pd.merge(left, right, how='outer', on='subject_id')\n",
    "print(outer_join)\n"
   ]
  },
  {
   "cell_type": "markdown",
   "metadata": {},
   "source": [
    "Inner Join: Only keeps rows where the subject_id exists in both DataFrames."
   ]
  },
  {
   "cell_type": "code",
   "execution_count": 6,
   "metadata": {},
   "outputs": [
    {
     "name": "stdout",
     "output_type": "stream",
     "text": [
      "\n",
      "### Inner Join (only keeps matching rows from both DataFrames) ###\n",
      "   id_x  Name_x subject_id  id_y Name_y\n",
      "0     2     Amy       sub2     1  Billy\n",
      "1     3   Allen       sub4     2  Brian\n",
      "2     4   Alice       sub6     4  Bryce\n",
      "3     5  Ayoung       sub5     5  Betty\n"
     ]
    }
   ],
   "source": [
    "# Inner Join\n",
    "print(\"\\n### Inner Join (only keeps matching rows from both DataFrames) ###\")\n",
    "inner_join = pd.merge(left, right, on='subject_id', how='inner')\n",
    "print(inner_join)"
   ]
  }
 ],
 "metadata": {
  "kernelspec": {
   "display_name": "base",
   "language": "python",
   "name": "python3"
  },
  "language_info": {
   "codemirror_mode": {
    "name": "ipython",
    "version": 3
   },
   "file_extension": ".py",
   "mimetype": "text/x-python",
   "name": "python",
   "nbconvert_exporter": "python",
   "pygments_lexer": "ipython3",
   "version": "3.12.7"
  }
 },
 "nbformat": 4,
 "nbformat_minor": 2
}
