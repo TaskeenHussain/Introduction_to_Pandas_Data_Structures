{
 "cells": [
  {
   "cell_type": "markdown",
   "metadata": {},
   "source": []
  },
  {
   "cell_type": "code",
   "execution_count": null,
   "metadata": {},
   "outputs": [],
   "source": []
  },
  {
   "cell_type": "markdown",
   "metadata": {},
   "source": [
    "### 1. Creating an Empty DataFrame\n"
   ]
  },
  {
   "cell_type": "code",
   "execution_count": 2,
   "metadata": {},
   "outputs": [
    {
     "name": "stdout",
     "output_type": "stream",
     "text": [
      "Empty DataFrame\n",
      "Columns: []\n",
      "Index: []\n"
     ]
    }
   ],
   "source": [
    "### An empty DataFrame can be created using pd.DataFrame().\n",
    "\n",
    "import pandas as pd\n",
    "df = pd.DataFrame()\n",
    "print(df)"
   ]
  },
  {
   "cell_type": "markdown",
   "metadata": {},
   "source": [
    "### 2. Creating a DataFrame from a List"
   ]
  },
  {
   "cell_type": "code",
   "execution_count": 12,
   "metadata": {},
   "outputs": [
    {
     "name": "stdout",
     "output_type": "stream",
     "text": [
      "   0\n",
      "0  1\n",
      "1  2\n",
      "2  3\n",
      "3  4\n",
      "4  5\n",
      "     Name  Age\n",
      "0    Alex   10\n",
      "1     Bob   12\n",
      "2  Clarke   13\n",
      "     Name   Age\n",
      "0    Alex  10.0\n",
      "1     Bob  12.0\n",
      "2  Clarke  13.0\n"
     ]
    }
   ],
   "source": [
    "# We can create a DataFrame by passing a list.\n",
    "\n",
    "# Example 1: Single Column\n",
    "import pandas as pd\n",
    "data = [1, 2, 3, 4, 5]\n",
    "df = pd.DataFrame(data)\n",
    "print(df)\n",
    "# Example 2: List of Lists (Multiple Columns)\n",
    "import pandas as pd\n",
    "data = [['Alex', 10], ['Bob', 12], ['Clarke', 13]]\n",
    "df = pd.DataFrame(data, columns=['Name', 'Age'])\n",
    "print(df)\n",
    "# Example 3: Specifying Data Type\n",
    "import pandas as pd\n",
    "\n",
    "data = [['Alex', 10], ['Bob', 12], ['Clarke', 13]]\n",
    "df = pd.DataFrame(data, columns=['Name', 'Age'])\n",
    "\n",
    "# Convert 'Age' column to float\n",
    "df['Age'] = df['Age'].astype(float)\n",
    "\n",
    "print(df)\n"
   ]
  },
  {
   "cell_type": "markdown",
   "metadata": {},
   "source": [
    "### 3. Creating a DataFrame from a Dictionary of Lists\n",
    "#### A dictionary where keys represent column names and values represent column data."
   ]
  },
  {
   "cell_type": "code",
   "execution_count": 4,
   "metadata": {},
   "outputs": [
    {
     "name": "stdout",
     "output_type": "stream",
     "text": [
      "    Name  Age\n",
      "0    Tom   28\n",
      "1   Jack   34\n",
      "2  Steve   29\n",
      "3  Ricky   42\n",
      "        Name  Age\n",
      "rank1    Tom   28\n",
      "rank2   Jack   34\n",
      "rank3  Steve   29\n",
      "rank4  Ricky   42\n"
     ]
    }
   ],
   "source": [
    "# Example 1: Without Index\n",
    "import pandas as pd\n",
    "data = {'Name': ['Tom', 'Jack', 'Steve', 'Ricky'], 'Age': [28, 34, 29, 42]}\n",
    "df = pd.DataFrame(data)\n",
    "print(df)\n",
    "# Example 2: With Custom Index\n",
    "import pandas as pd\n",
    "data = {'Name': ['Tom', 'Jack', 'Steve', 'Ricky'], 'Age': [28, 34, 29, 42]}\n",
    "df = pd.DataFrame(data, index=['rank1', 'rank2', 'rank3', 'rank4'])\n",
    "print(df)\n"
   ]
  },
  {
   "cell_type": "markdown",
   "metadata": {},
   "source": [
    "### 4. Creating a DataFrame from a List of Dictionaries\n",
    "##### Each dictionary represents a row.\n"
   ]
  },
  {
   "cell_type": "code",
   "execution_count": 5,
   "metadata": {},
   "outputs": [
    {
     "name": "stdout",
     "output_type": "stream",
     "text": [
      "   a   b     c\n",
      "0  1   2   NaN\n",
      "1  5  10  20.0\n",
      "        a   b     c\n",
      "first   1   2   NaN\n",
      "second  5  10  20.0\n",
      "        a   b\n",
      "first   1   2\n",
      "second  5  10\n",
      "        a  b1\n",
      "first   1 NaN\n",
      "second  5 NaN\n"
     ]
    }
   ],
   "source": [
    "# Example 1: Default Index\n",
    "import pandas as pd\n",
    "data = [{'a': 1, 'b': 2}, {'a': 5, 'b': 10, 'c': 20}]\n",
    "df = pd.DataFrame(data)\n",
    "print(df)\n",
    "# Example 2: Custom Index\n",
    "import pandas as pd\n",
    "data = [{'a': 1, 'b': 2}, {'a': 5, 'b': 10, 'c': 20}]\n",
    "df = pd.DataFrame(data, index=['first', 'second'])\n",
    "print(df)\n",
    "# Example 3: Selecting Specific Columns\n",
    "import pandas as pd\n",
    "data = [{'a': 1, 'b': 2}, {'a': 5, 'b': 10, 'c': 20}]\n",
    "df1 = pd.DataFrame(data, index=['first', 'second'], columns=['a', 'b'])\n",
    "df2 = pd.DataFrame(data, index=['first', 'second'], columns=['a', 'b1'])  # 'b1' is not in data, so it results in NaN\n",
    "print(df1)\n",
    "print(df2)"
   ]
  },
  {
   "cell_type": "markdown",
   "metadata": {},
   "source": [
    "### 5. Creating a DataFrame from a Dictionary of Series\n",
    "#### Each key represents a column, and the values are Pandas Series."
   ]
  },
  {
   "cell_type": "code",
   "execution_count": 6,
   "metadata": {},
   "outputs": [
    {
     "name": "stdout",
     "output_type": "stream",
     "text": [
      "   one  two\n",
      "a  1.0    1\n",
      "b  2.0    2\n",
      "c  3.0    3\n",
      "d  NaN    4\n"
     ]
    }
   ],
   "source": [
    "import pandas as pd\n",
    "d = {\n",
    "    'one': pd.Series([1, 2, 3], index=['a', 'b', 'c']),\n",
    "    'two': pd.Series([1, 2, 3, 4], index=['a', 'b', 'c', 'd'])\n",
    "}\n",
    "df = pd.DataFrame(d)\n",
    "print(df)\n"
   ]
  },
  {
   "cell_type": "markdown",
   "metadata": {},
   "source": [
    "### 6. Column Operations\n",
    "#### Selection of a Column"
   ]
  },
  {
   "cell_type": "code",
   "execution_count": 7,
   "metadata": {},
   "outputs": [
    {
     "name": "stdout",
     "output_type": "stream",
     "text": [
      "a    1.0\n",
      "b    2.0\n",
      "c    3.0\n",
      "d    NaN\n",
      "Name: one, dtype: float64\n",
      "   one  two  three  four\n",
      "a  1.0    1   10.0  11.0\n",
      "b  2.0    2   20.0  22.0\n",
      "c  3.0    3   30.0  33.0\n",
      "d  NaN    4    NaN   NaN\n",
      "   two  three  four\n",
      "a    1   10.0  11.0\n",
      "b    2   20.0  22.0\n",
      "c    3   30.0  33.0\n",
      "d    4    NaN   NaN\n",
      "   three  four\n",
      "a   10.0  11.0\n",
      "b   20.0  22.0\n",
      "c   30.0  33.0\n",
      "d    NaN   NaN\n"
     ]
    }
   ],
   "source": [
    "print(df['one'])  # Selecting column 'one'\n",
    "# Adding a New Column\n",
    "df['three'] = pd.Series([10, 20, 30], index=['a', 'b', 'c'])\n",
    "df['four'] = df['one'] + df['three']\n",
    "print(df)\n",
    "## Deleting a Column\n",
    "## Using del:\n",
    "del df['one']\n",
    "print(df)\n",
    "## Using pop():\n",
    "df.pop('two')\n",
    "print(df)\n"
   ]
  },
  {
   "cell_type": "markdown",
   "metadata": {},
   "source": [
    "### 7. Row Operations\n",
    "#### Selecting Rows\n",
    "#### Selection by Label (loc)"
   ]
  },
  {
   "cell_type": "code",
   "execution_count": 11,
   "metadata": {},
   "outputs": [
    {
     "name": "stdout",
     "output_type": "stream",
     "text": [
      "three    20.0\n",
      "four     22.0\n",
      "Name: b, dtype: float64\n",
      "three    30.0\n",
      "four     33.0\n",
      "Name: c, dtype: float64\n",
      "   three  four\n",
      "c   30.0  33.0\n",
      "d    NaN   NaN\n",
      "   a  b\n",
      "0  1  2\n",
      "1  3  4\n",
      "2  5  6\n",
      "3  7  8\n",
      "   a  b\n",
      "1  3  4\n",
      "2  5  6\n",
      "3  7  8\n"
     ]
    }
   ],
   "source": [
    "print(df.loc['b'])  # Selecting row 'b'\n",
    "# Selection by Integer Location (iloc)\n",
    "\n",
    "print(df.iloc[2])  # Selecting the third row (index 2)\n",
    "# Slicing Rows\n",
    "print(df[2:4])  # Selecting rows from index 2 to 3\n",
    "# Adding Rows\n",
    "# Using append(): or concatenate\n",
    "import pandas as pd\n",
    "\n",
    "df1 = pd.DataFrame([[1, 2], [3, 4]], columns=['a', 'b'])\n",
    "df2 = pd.DataFrame([[5, 6], [7, 8]], columns=['a', 'b'])\n",
    "\n",
    "# Use pd.concat() instead of append\n",
    "df = pd.concat([df1, df2], ignore_index=True)\n",
    "\n",
    "print(df)\n",
    "# Deleting Rows\n",
    "# Using drop():\n",
    "df = df.drop(0)  # Drops rows with index 0\n",
    "print(df)"
   ]
  }
 ],
 "metadata": {
  "kernelspec": {
   "display_name": "base",
   "language": "python",
   "name": "python3"
  },
  "language_info": {
   "codemirror_mode": {
    "name": "ipython",
    "version": 3
   },
   "file_extension": ".py",
   "mimetype": "text/x-python",
   "name": "python",
   "nbconvert_exporter": "python",
   "pygments_lexer": "ipython3",
   "version": "3.12.7"
  }
 },
 "nbformat": 4,
 "nbformat_minor": 2
}
