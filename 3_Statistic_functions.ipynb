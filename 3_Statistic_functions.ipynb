{
 "cells": [
  {
   "cell_type": "markdown",
   "metadata": {},
   "source": []
  },
  {
   "cell_type": "code",
   "execution_count": 1,
   "metadata": {},
   "outputs": [
    {
     "name": "stdout",
     "output_type": "stream",
     "text": [
      "0         NaN\n",
      "1    1.000000\n",
      "2    0.500000\n",
      "3    0.333333\n",
      "4    0.250000\n",
      "5   -0.200000\n",
      "dtype: float64\n",
      "           0         1\n",
      "0        NaN       NaN\n",
      "1  -0.779846 -2.278051\n",
      "2 -11.322823 -1.464984\n",
      "3  -1.224249 -1.543195\n",
      "4  -6.372381 -5.269157\n"
     ]
    }
   ],
   "source": [
    "### Percent Change\n",
    "import pandas as pd\n",
    "import numpy as np\n",
    "\n",
    "# Percent change in a Series\n",
    "s = pd.Series([1, 2, 3, 4, 5, 4])\n",
    "print(s.pct_change())\n",
    "\n",
    "# Percent change in a DataFrame\n",
    "df = pd.DataFrame(np.random.randn(5, 2))\n",
    "print(df.pct_change())"
   ]
  },
  {
   "cell_type": "code",
   "execution_count": 2,
   "metadata": {},
   "outputs": [
    {
     "name": "stdout",
     "output_type": "stream",
     "text": [
      "0.4568792495592504\n"
     ]
    }
   ],
   "source": [
    "#### Covariance\n",
    "### Covariance Between Two Series\n",
    "import pandas as pd\n",
    "import numpy as np\n",
    "\n",
    "# Covariance between two Series\n",
    "s1 = pd.Series(np.random.randn(10))\n",
    "s2 = pd.Series(np.random.randn(10))\n",
    "print(s1.cov(s2))\n",
    "\n"
   ]
  },
  {
   "cell_type": "code",
   "execution_count": 3,
   "metadata": {},
   "outputs": [
    {
     "name": "stdout",
     "output_type": "stream",
     "text": [
      "-0.5579767328243804\n",
      "          a         b         c         d         e\n",
      "a  1.360423 -0.557977 -0.316123  0.132415 -0.252388\n",
      "b -0.557977  0.788903  0.543543 -0.530092  0.385421\n",
      "c -0.316123  0.543543  1.991621 -0.361089 -0.072355\n",
      "d  0.132415 -0.530092 -0.361089  0.693141 -0.231601\n",
      "e -0.252388  0.385421 -0.072355 -0.231601  2.133670\n"
     ]
    }
   ],
   "source": [
    "###  Covariance in a DataFrame\n",
    "import pandas as pd\n",
    "import numpy as np\n",
    "\n",
    "# Covariance between two columns and the full covariance matrix\n",
    "frame = pd.DataFrame(np.random.randn(10, 5), columns=['a', 'b', 'c', 'd', 'e'])\n",
    "print(frame['a'].cov(frame['b']))\n",
    "print(frame.cov())"
   ]
  },
  {
   "cell_type": "code",
   "execution_count": 4,
   "metadata": {},
   "outputs": [
    {
     "name": "stdout",
     "output_type": "stream",
     "text": [
      "-0.007187695414784003\n",
      "          a         b         c         d         e\n",
      "a  1.000000 -0.007188  0.253975 -0.175832  0.055584\n",
      "b -0.007188  1.000000 -0.072127 -0.237064 -0.123259\n",
      "c  0.253975 -0.072127  1.000000 -0.136845 -0.049591\n",
      "d -0.175832 -0.237064 -0.136845  1.000000  0.727892\n",
      "e  0.055584 -0.123259 -0.049591  0.727892  1.000000\n"
     ]
    }
   ],
   "source": [
    "### Correlation\n",
    "### Example: Correlation in a DataFrame\n",
    "import pandas as pd\n",
    "import numpy as np\n",
    "\n",
    "# Correlation between two columns and the full correlation matrix\n",
    "frame = pd.DataFrame(np.random.randn(10, 5), columns=['a', 'b', 'c', 'd', 'e'])\n",
    "print(frame['a'].corr(frame['b']))\n",
    "print(frame.corr())"
   ]
  },
  {
   "cell_type": "code",
   "execution_count": 5,
   "metadata": {},
   "outputs": [
    {
     "name": "stdout",
     "output_type": "stream",
     "text": [
      "a    5.0\n",
      "b    3.5\n",
      "c    2.0\n",
      "d    3.5\n",
      "e    1.0\n",
      "dtype: float64\n"
     ]
    }
   ],
   "source": [
    "## Data Ranking\n",
    "### Example: Ranking in a Series\n",
    "import pandas as pd\n",
    "import numpy as np\n",
    "\n",
    "# Ranking with a tie\n",
    "s = pd.Series(np.random.randn(5), index=list('abcde'))\n",
    "s['d'] = s['b']  # Introduce a tie\n",
    "print(s.rank())"
   ]
  },
  {
   "cell_type": "code",
   "execution_count": 6,
   "metadata": {},
   "outputs": [
    {
     "name": "stdout",
     "output_type": "stream",
     "text": [
      "                   A         B         C         D\n",
      "2000-01-01       NaN       NaN       NaN       NaN\n",
      "2000-01-02       NaN       NaN       NaN       NaN\n",
      "2000-01-03  1.266388 -1.104209  0.303203  0.701935\n",
      "2000-01-04  0.098614 -0.973005  0.394236  0.820538\n",
      "2000-01-05  0.245239 -0.100434  1.302071  0.717588\n",
      "2000-01-06 -0.271699 -0.145648  1.112296  0.628794\n",
      "2000-01-07  0.074443 -0.443593  1.187800  0.210512\n",
      "2000-01-08 -1.241359 -1.259970  0.386071 -0.789007\n",
      "2000-01-09 -1.044072 -1.416046  0.094159 -1.044863\n",
      "2000-01-10 -0.636093 -1.282500 -0.166455 -0.951371\n"
     ]
    }
   ],
   "source": [
    "### .rolling() Function\n",
    "### Example: Rolling Window Calculations\n",
    "import pandas as pd\n",
    "import numpy as np\n",
    "\n",
    "# Rolling mean with a window size of 3\n",
    "df = pd.DataFrame(np.random.randn(10, 4),\n",
    "                  index=pd.date_range('1/1/2000', periods=10),\n",
    "                  columns=['A', 'B', 'C', 'D'])\n",
    "print(df.rolling(window=3).mean())"
   ]
  },
  {
   "cell_type": "code",
   "execution_count": 7,
   "metadata": {},
   "outputs": [
    {
     "name": "stdout",
     "output_type": "stream",
     "text": [
      "                   A         B         C         D\n",
      "2000-01-01       NaN       NaN       NaN       NaN\n",
      "2000-01-02       NaN       NaN       NaN       NaN\n",
      "2000-01-03 -1.405760  0.206847 -0.553245  0.850566\n",
      "2000-01-04 -1.600636  0.648067 -0.373987  0.363907\n",
      "2000-01-05 -1.218339  0.391678 -0.213984  0.301603\n",
      "2000-01-06 -0.918962  0.433418 -0.333362  0.215900\n",
      "2000-01-07 -0.691255  0.243885 -0.381091  0.325318\n",
      "2000-01-08 -0.858165  0.469525 -0.357490  0.397954\n",
      "2000-01-09 -0.763205  0.353731 -0.272954  0.348724\n",
      "2000-01-10 -0.704509  0.548637 -0.266595  0.276242\n"
     ]
    }
   ],
   "source": [
    "### .expanding() Function\n",
    "### Example: Expanding Window Calculations\n",
    "import pandas as pd\n",
    "import numpy as np\n",
    "\n",
    "# Expanding mean with a minimum of 3 periods\n",
    "df = pd.DataFrame(np.random.randn(10, 4),\n",
    "                  index=pd.date_range('1/1/2000', periods=10),\n",
    "                  columns=['A', 'B', 'C', 'D'])\n",
    "print(df.expanding(min_periods=3).mean())\n"
   ]
  },
  {
   "cell_type": "code",
   "execution_count": 8,
   "metadata": {},
   "outputs": [
    {
     "name": "stdout",
     "output_type": "stream",
     "text": [
      "                   A         B         C         D\n",
      "2000-01-01  0.118112 -1.254243 -0.891044  0.787991\n",
      "2000-01-02 -1.556427  0.635446  0.406062 -0.157472\n",
      "2000-01-03  0.743346 -0.180077  0.209695 -1.464547\n",
      "2000-01-04 -0.546530 -1.007040 -0.601371 -1.275831\n",
      "2000-01-05  0.303365 -2.315008 -1.588813 -1.073278\n",
      "2000-01-06  0.103362 -1.112990 -0.247257 -1.635404\n",
      "2000-01-07  0.134393  0.743094  0.570639 -1.284679\n",
      "2000-01-08  0.389085 -0.661087  0.441395  0.123242\n",
      "2000-01-09 -0.344708 -0.350120 -0.794341  0.523054\n",
      "2000-01-10  0.508385  0.413834 -0.366176 -0.741468\n"
     ]
    }
   ],
   "source": [
    "### .ewm() Function\n",
    "### Example: Exponentially Weighted Moving Average\n",
    "import pandas as pd\n",
    "import numpy as np\n",
    "\n",
    "# EWM with a smoothing factor of 0.5\n",
    "df = pd.DataFrame(np.random.randn(10, 4),\n",
    "                  index=pd.date_range('1/1/2000', periods=10),\n",
    "                  columns=['A', 'B', 'C', 'D'])\n",
    "print(df.ewm(com=0.5).mean())\n"
   ]
  }
 ],
 "metadata": {
  "kernelspec": {
   "display_name": "base",
   "language": "python",
   "name": "python3"
  },
  "language_info": {
   "codemirror_mode": {
    "name": "ipython",
    "version": 3
   },
   "file_extension": ".py",
   "mimetype": "text/x-python",
   "name": "python",
   "nbconvert_exporter": "python",
   "pygments_lexer": "ipython3",
   "version": "3.12.7"
  }
 },
 "nbformat": 4,
 "nbformat_minor": 2
}
